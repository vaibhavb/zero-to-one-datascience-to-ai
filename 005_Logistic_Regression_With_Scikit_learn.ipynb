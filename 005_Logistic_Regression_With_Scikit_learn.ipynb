{
  "nbformat": 4,
  "nbformat_minor": 0,
  "metadata": {
    "colab": {
      "provenance": [],
      "collapsed_sections": [
        "uTgKfyrj8vO1",
        "eCfyGLJE9ros",
        "IQTnTK1o9xU6",
        "UGUJDAKf-Vi9",
        "tlHjZpcn-lKB"
      ],
      "toc_visible": true,
      "authorship_tag": "ABX9TyMxgKtNzuQ50nYjaEv4AsIQ",
      "include_colab_link": true
    },
    "kernelspec": {
      "name": "python3",
      "display_name": "Python 3"
    },
    "language_info": {
      "name": "python"
    },
    "widgets": {
      "application/vnd.jupyter.widget-state+json": {
        "818b91b4b90246258db2240791236208": {
          "model_module": "@jupyter-widgets/controls",
          "model_name": "VBoxModel",
          "model_module_version": "1.5.0",
          "state": {
            "_dom_classes": [],
            "_model_module": "@jupyter-widgets/controls",
            "_model_module_version": "1.5.0",
            "_model_name": "VBoxModel",
            "_view_count": null,
            "_view_module": "@jupyter-widgets/controls",
            "_view_module_version": "1.5.0",
            "_view_name": "VBoxView",
            "box_style": "",
            "children": [
              "IPY_MODEL_9f9e294fe4da48e193aa34c6109fc906"
            ],
            "layout": "IPY_MODEL_ea4b3b42c9b1414f88a87fb403e89d2e"
          }
        },
        "c77fd75cc407470093d4d94c5991a5fd": {
          "model_module": "@jupyter-widgets/controls",
          "model_name": "HTMLModel",
          "model_module_version": "1.5.0",
          "state": {
            "_dom_classes": [],
            "_model_module": "@jupyter-widgets/controls",
            "_model_module_version": "1.5.0",
            "_model_name": "HTMLModel",
            "_view_count": null,
            "_view_module": "@jupyter-widgets/controls",
            "_view_module_version": "1.5.0",
            "_view_name": "HTMLView",
            "description": "",
            "description_tooltip": null,
            "layout": "IPY_MODEL_64832c9731164457a39e0f393d96c4d8",
            "placeholder": "​",
            "style": "IPY_MODEL_466413cd9b4843d68d2db8526188f50c",
            "value": "<center> <img\nsrc=https://www.kaggle.com/static/images/site-logo.png\nalt='Kaggle'> <br> Create an API token from <a\nhref=\"https://www.kaggle.com/settings/account\" target=\"_blank\">your Kaggle\nsettings page</a> and paste it below along with your Kaggle username. <br> </center>"
          }
        },
        "8e19d55d71e942998bd685b8481e806d": {
          "model_module": "@jupyter-widgets/controls",
          "model_name": "TextModel",
          "model_module_version": "1.5.0",
          "state": {
            "_dom_classes": [],
            "_model_module": "@jupyter-widgets/controls",
            "_model_module_version": "1.5.0",
            "_model_name": "TextModel",
            "_view_count": null,
            "_view_module": "@jupyter-widgets/controls",
            "_view_module_version": "1.5.0",
            "_view_name": "TextView",
            "continuous_update": true,
            "description": "Username:",
            "description_tooltip": null,
            "disabled": false,
            "layout": "IPY_MODEL_8a58e846da0e4acba9b7e745edbe17b7",
            "placeholder": "​",
            "style": "IPY_MODEL_733cac3d1f954fdcb3d7812894840c7e",
            "value": "vaibhavkaggle"
          }
        },
        "b173be0307964c42bb43ff5aafd7201f": {
          "model_module": "@jupyter-widgets/controls",
          "model_name": "PasswordModel",
          "model_module_version": "1.5.0",
          "state": {
            "_dom_classes": [],
            "_model_module": "@jupyter-widgets/controls",
            "_model_module_version": "1.5.0",
            "_model_name": "PasswordModel",
            "_view_count": null,
            "_view_module": "@jupyter-widgets/controls",
            "_view_module_version": "1.5.0",
            "_view_name": "PasswordView",
            "continuous_update": true,
            "description": "Token:",
            "description_tooltip": null,
            "disabled": false,
            "layout": "IPY_MODEL_a58ce100ea7243c38c23a00ddf73a7b3",
            "placeholder": "​",
            "style": "IPY_MODEL_19a306c0fd77456c9bcf810046b737e8",
            "value": ""
          }
        },
        "b090dbbc12d04d00813108c039224856": {
          "model_module": "@jupyter-widgets/controls",
          "model_name": "ButtonModel",
          "model_module_version": "1.5.0",
          "state": {
            "_dom_classes": [],
            "_model_module": "@jupyter-widgets/controls",
            "_model_module_version": "1.5.0",
            "_model_name": "ButtonModel",
            "_view_count": null,
            "_view_module": "@jupyter-widgets/controls",
            "_view_module_version": "1.5.0",
            "_view_name": "ButtonView",
            "button_style": "",
            "description": "Login",
            "disabled": false,
            "icon": "",
            "layout": "IPY_MODEL_98ef5036cb87464cb4be2dc665498647",
            "style": "IPY_MODEL_9d538bfc99ae42608641c9817a04e987",
            "tooltip": ""
          }
        },
        "6600248924394202a75d027574934f79": {
          "model_module": "@jupyter-widgets/controls",
          "model_name": "HTMLModel",
          "model_module_version": "1.5.0",
          "state": {
            "_dom_classes": [],
            "_model_module": "@jupyter-widgets/controls",
            "_model_module_version": "1.5.0",
            "_model_name": "HTMLModel",
            "_view_count": null,
            "_view_module": "@jupyter-widgets/controls",
            "_view_module_version": "1.5.0",
            "_view_name": "HTMLView",
            "description": "",
            "description_tooltip": null,
            "layout": "IPY_MODEL_b2b7bbdd539b40b29956c2a24dc483db",
            "placeholder": "​",
            "style": "IPY_MODEL_753b598525f64e51a3cb081df67017fd",
            "value": "\n<b>Thank You</b></center>"
          }
        },
        "ea4b3b42c9b1414f88a87fb403e89d2e": {
          "model_module": "@jupyter-widgets/base",
          "model_name": "LayoutModel",
          "model_module_version": "1.2.0",
          "state": {
            "_model_module": "@jupyter-widgets/base",
            "_model_module_version": "1.2.0",
            "_model_name": "LayoutModel",
            "_view_count": null,
            "_view_module": "@jupyter-widgets/base",
            "_view_module_version": "1.2.0",
            "_view_name": "LayoutView",
            "align_content": null,
            "align_items": "center",
            "align_self": null,
            "border": null,
            "bottom": null,
            "display": "flex",
            "flex": null,
            "flex_flow": "column",
            "grid_area": null,
            "grid_auto_columns": null,
            "grid_auto_flow": null,
            "grid_auto_rows": null,
            "grid_column": null,
            "grid_gap": null,
            "grid_row": null,
            "grid_template_areas": null,
            "grid_template_columns": null,
            "grid_template_rows": null,
            "height": null,
            "justify_content": null,
            "justify_items": null,
            "left": null,
            "margin": null,
            "max_height": null,
            "max_width": null,
            "min_height": null,
            "min_width": null,
            "object_fit": null,
            "object_position": null,
            "order": null,
            "overflow": null,
            "overflow_x": null,
            "overflow_y": null,
            "padding": null,
            "right": null,
            "top": null,
            "visibility": null,
            "width": "50%"
          }
        },
        "64832c9731164457a39e0f393d96c4d8": {
          "model_module": "@jupyter-widgets/base",
          "model_name": "LayoutModel",
          "model_module_version": "1.2.0",
          "state": {
            "_model_module": "@jupyter-widgets/base",
            "_model_module_version": "1.2.0",
            "_model_name": "LayoutModel",
            "_view_count": null,
            "_view_module": "@jupyter-widgets/base",
            "_view_module_version": "1.2.0",
            "_view_name": "LayoutView",
            "align_content": null,
            "align_items": null,
            "align_self": null,
            "border": null,
            "bottom": null,
            "display": null,
            "flex": null,
            "flex_flow": null,
            "grid_area": null,
            "grid_auto_columns": null,
            "grid_auto_flow": null,
            "grid_auto_rows": null,
            "grid_column": null,
            "grid_gap": null,
            "grid_row": null,
            "grid_template_areas": null,
            "grid_template_columns": null,
            "grid_template_rows": null,
            "height": null,
            "justify_content": null,
            "justify_items": null,
            "left": null,
            "margin": null,
            "max_height": null,
            "max_width": null,
            "min_height": null,
            "min_width": null,
            "object_fit": null,
            "object_position": null,
            "order": null,
            "overflow": null,
            "overflow_x": null,
            "overflow_y": null,
            "padding": null,
            "right": null,
            "top": null,
            "visibility": null,
            "width": null
          }
        },
        "466413cd9b4843d68d2db8526188f50c": {
          "model_module": "@jupyter-widgets/controls",
          "model_name": "DescriptionStyleModel",
          "model_module_version": "1.5.0",
          "state": {
            "_model_module": "@jupyter-widgets/controls",
            "_model_module_version": "1.5.0",
            "_model_name": "DescriptionStyleModel",
            "_view_count": null,
            "_view_module": "@jupyter-widgets/base",
            "_view_module_version": "1.2.0",
            "_view_name": "StyleView",
            "description_width": ""
          }
        },
        "8a58e846da0e4acba9b7e745edbe17b7": {
          "model_module": "@jupyter-widgets/base",
          "model_name": "LayoutModel",
          "model_module_version": "1.2.0",
          "state": {
            "_model_module": "@jupyter-widgets/base",
            "_model_module_version": "1.2.0",
            "_model_name": "LayoutModel",
            "_view_count": null,
            "_view_module": "@jupyter-widgets/base",
            "_view_module_version": "1.2.0",
            "_view_name": "LayoutView",
            "align_content": null,
            "align_items": null,
            "align_self": null,
            "border": null,
            "bottom": null,
            "display": null,
            "flex": null,
            "flex_flow": null,
            "grid_area": null,
            "grid_auto_columns": null,
            "grid_auto_flow": null,
            "grid_auto_rows": null,
            "grid_column": null,
            "grid_gap": null,
            "grid_row": null,
            "grid_template_areas": null,
            "grid_template_columns": null,
            "grid_template_rows": null,
            "height": null,
            "justify_content": null,
            "justify_items": null,
            "left": null,
            "margin": null,
            "max_height": null,
            "max_width": null,
            "min_height": null,
            "min_width": null,
            "object_fit": null,
            "object_position": null,
            "order": null,
            "overflow": null,
            "overflow_x": null,
            "overflow_y": null,
            "padding": null,
            "right": null,
            "top": null,
            "visibility": null,
            "width": null
          }
        },
        "733cac3d1f954fdcb3d7812894840c7e": {
          "model_module": "@jupyter-widgets/controls",
          "model_name": "DescriptionStyleModel",
          "model_module_version": "1.5.0",
          "state": {
            "_model_module": "@jupyter-widgets/controls",
            "_model_module_version": "1.5.0",
            "_model_name": "DescriptionStyleModel",
            "_view_count": null,
            "_view_module": "@jupyter-widgets/base",
            "_view_module_version": "1.2.0",
            "_view_name": "StyleView",
            "description_width": ""
          }
        },
        "a58ce100ea7243c38c23a00ddf73a7b3": {
          "model_module": "@jupyter-widgets/base",
          "model_name": "LayoutModel",
          "model_module_version": "1.2.0",
          "state": {
            "_model_module": "@jupyter-widgets/base",
            "_model_module_version": "1.2.0",
            "_model_name": "LayoutModel",
            "_view_count": null,
            "_view_module": "@jupyter-widgets/base",
            "_view_module_version": "1.2.0",
            "_view_name": "LayoutView",
            "align_content": null,
            "align_items": null,
            "align_self": null,
            "border": null,
            "bottom": null,
            "display": null,
            "flex": null,
            "flex_flow": null,
            "grid_area": null,
            "grid_auto_columns": null,
            "grid_auto_flow": null,
            "grid_auto_rows": null,
            "grid_column": null,
            "grid_gap": null,
            "grid_row": null,
            "grid_template_areas": null,
            "grid_template_columns": null,
            "grid_template_rows": null,
            "height": null,
            "justify_content": null,
            "justify_items": null,
            "left": null,
            "margin": null,
            "max_height": null,
            "max_width": null,
            "min_height": null,
            "min_width": null,
            "object_fit": null,
            "object_position": null,
            "order": null,
            "overflow": null,
            "overflow_x": null,
            "overflow_y": null,
            "padding": null,
            "right": null,
            "top": null,
            "visibility": null,
            "width": null
          }
        },
        "19a306c0fd77456c9bcf810046b737e8": {
          "model_module": "@jupyter-widgets/controls",
          "model_name": "DescriptionStyleModel",
          "model_module_version": "1.5.0",
          "state": {
            "_model_module": "@jupyter-widgets/controls",
            "_model_module_version": "1.5.0",
            "_model_name": "DescriptionStyleModel",
            "_view_count": null,
            "_view_module": "@jupyter-widgets/base",
            "_view_module_version": "1.2.0",
            "_view_name": "StyleView",
            "description_width": ""
          }
        },
        "98ef5036cb87464cb4be2dc665498647": {
          "model_module": "@jupyter-widgets/base",
          "model_name": "LayoutModel",
          "model_module_version": "1.2.0",
          "state": {
            "_model_module": "@jupyter-widgets/base",
            "_model_module_version": "1.2.0",
            "_model_name": "LayoutModel",
            "_view_count": null,
            "_view_module": "@jupyter-widgets/base",
            "_view_module_version": "1.2.0",
            "_view_name": "LayoutView",
            "align_content": null,
            "align_items": null,
            "align_self": null,
            "border": null,
            "bottom": null,
            "display": null,
            "flex": null,
            "flex_flow": null,
            "grid_area": null,
            "grid_auto_columns": null,
            "grid_auto_flow": null,
            "grid_auto_rows": null,
            "grid_column": null,
            "grid_gap": null,
            "grid_row": null,
            "grid_template_areas": null,
            "grid_template_columns": null,
            "grid_template_rows": null,
            "height": null,
            "justify_content": null,
            "justify_items": null,
            "left": null,
            "margin": null,
            "max_height": null,
            "max_width": null,
            "min_height": null,
            "min_width": null,
            "object_fit": null,
            "object_position": null,
            "order": null,
            "overflow": null,
            "overflow_x": null,
            "overflow_y": null,
            "padding": null,
            "right": null,
            "top": null,
            "visibility": null,
            "width": null
          }
        },
        "9d538bfc99ae42608641c9817a04e987": {
          "model_module": "@jupyter-widgets/controls",
          "model_name": "ButtonStyleModel",
          "model_module_version": "1.5.0",
          "state": {
            "_model_module": "@jupyter-widgets/controls",
            "_model_module_version": "1.5.0",
            "_model_name": "ButtonStyleModel",
            "_view_count": null,
            "_view_module": "@jupyter-widgets/base",
            "_view_module_version": "1.2.0",
            "_view_name": "StyleView",
            "button_color": null,
            "font_weight": ""
          }
        },
        "b2b7bbdd539b40b29956c2a24dc483db": {
          "model_module": "@jupyter-widgets/base",
          "model_name": "LayoutModel",
          "model_module_version": "1.2.0",
          "state": {
            "_model_module": "@jupyter-widgets/base",
            "_model_module_version": "1.2.0",
            "_model_name": "LayoutModel",
            "_view_count": null,
            "_view_module": "@jupyter-widgets/base",
            "_view_module_version": "1.2.0",
            "_view_name": "LayoutView",
            "align_content": null,
            "align_items": null,
            "align_self": null,
            "border": null,
            "bottom": null,
            "display": null,
            "flex": null,
            "flex_flow": null,
            "grid_area": null,
            "grid_auto_columns": null,
            "grid_auto_flow": null,
            "grid_auto_rows": null,
            "grid_column": null,
            "grid_gap": null,
            "grid_row": null,
            "grid_template_areas": null,
            "grid_template_columns": null,
            "grid_template_rows": null,
            "height": null,
            "justify_content": null,
            "justify_items": null,
            "left": null,
            "margin": null,
            "max_height": null,
            "max_width": null,
            "min_height": null,
            "min_width": null,
            "object_fit": null,
            "object_position": null,
            "order": null,
            "overflow": null,
            "overflow_x": null,
            "overflow_y": null,
            "padding": null,
            "right": null,
            "top": null,
            "visibility": null,
            "width": null
          }
        },
        "753b598525f64e51a3cb081df67017fd": {
          "model_module": "@jupyter-widgets/controls",
          "model_name": "DescriptionStyleModel",
          "model_module_version": "1.5.0",
          "state": {
            "_model_module": "@jupyter-widgets/controls",
            "_model_module_version": "1.5.0",
            "_model_name": "DescriptionStyleModel",
            "_view_count": null,
            "_view_module": "@jupyter-widgets/base",
            "_view_module_version": "1.2.0",
            "_view_name": "StyleView",
            "description_width": ""
          }
        },
        "73fbbf19e41e49ff8335ddc517162c0d": {
          "model_module": "@jupyter-widgets/controls",
          "model_name": "LabelModel",
          "model_module_version": "1.5.0",
          "state": {
            "_dom_classes": [],
            "_model_module": "@jupyter-widgets/controls",
            "_model_module_version": "1.5.0",
            "_model_name": "LabelModel",
            "_view_count": null,
            "_view_module": "@jupyter-widgets/controls",
            "_view_module_version": "1.5.0",
            "_view_name": "LabelView",
            "description": "",
            "description_tooltip": null,
            "layout": "IPY_MODEL_880444214e5f4b8cbf71f15c297f2f7e",
            "placeholder": "​",
            "style": "IPY_MODEL_ebcd529c46d24cbb96636d4b094fb1c5",
            "value": "Connecting..."
          }
        },
        "880444214e5f4b8cbf71f15c297f2f7e": {
          "model_module": "@jupyter-widgets/base",
          "model_name": "LayoutModel",
          "model_module_version": "1.2.0",
          "state": {
            "_model_module": "@jupyter-widgets/base",
            "_model_module_version": "1.2.0",
            "_model_name": "LayoutModel",
            "_view_count": null,
            "_view_module": "@jupyter-widgets/base",
            "_view_module_version": "1.2.0",
            "_view_name": "LayoutView",
            "align_content": null,
            "align_items": null,
            "align_self": null,
            "border": null,
            "bottom": null,
            "display": null,
            "flex": null,
            "flex_flow": null,
            "grid_area": null,
            "grid_auto_columns": null,
            "grid_auto_flow": null,
            "grid_auto_rows": null,
            "grid_column": null,
            "grid_gap": null,
            "grid_row": null,
            "grid_template_areas": null,
            "grid_template_columns": null,
            "grid_template_rows": null,
            "height": null,
            "justify_content": null,
            "justify_items": null,
            "left": null,
            "margin": null,
            "max_height": null,
            "max_width": null,
            "min_height": null,
            "min_width": null,
            "object_fit": null,
            "object_position": null,
            "order": null,
            "overflow": null,
            "overflow_x": null,
            "overflow_y": null,
            "padding": null,
            "right": null,
            "top": null,
            "visibility": null,
            "width": null
          }
        },
        "ebcd529c46d24cbb96636d4b094fb1c5": {
          "model_module": "@jupyter-widgets/controls",
          "model_name": "DescriptionStyleModel",
          "model_module_version": "1.5.0",
          "state": {
            "_model_module": "@jupyter-widgets/controls",
            "_model_module_version": "1.5.0",
            "_model_name": "DescriptionStyleModel",
            "_view_count": null,
            "_view_module": "@jupyter-widgets/base",
            "_view_module_version": "1.2.0",
            "_view_name": "StyleView",
            "description_width": ""
          }
        },
        "9f9e294fe4da48e193aa34c6109fc906": {
          "model_module": "@jupyter-widgets/controls",
          "model_name": "LabelModel",
          "model_module_version": "1.5.0",
          "state": {
            "_dom_classes": [],
            "_model_module": "@jupyter-widgets/controls",
            "_model_module_version": "1.5.0",
            "_model_name": "LabelModel",
            "_view_count": null,
            "_view_module": "@jupyter-widgets/controls",
            "_view_module_version": "1.5.0",
            "_view_name": "LabelView",
            "description": "",
            "description_tooltip": null,
            "layout": "IPY_MODEL_c8eba012c914426f94b6724bec60a9c9",
            "placeholder": "​",
            "style": "IPY_MODEL_a0e929030ea84a27b8870fa25ab60e3f",
            "value": "Kaggle credentials successfully validated."
          }
        },
        "c8eba012c914426f94b6724bec60a9c9": {
          "model_module": "@jupyter-widgets/base",
          "model_name": "LayoutModel",
          "model_module_version": "1.2.0",
          "state": {
            "_model_module": "@jupyter-widgets/base",
            "_model_module_version": "1.2.0",
            "_model_name": "LayoutModel",
            "_view_count": null,
            "_view_module": "@jupyter-widgets/base",
            "_view_module_version": "1.2.0",
            "_view_name": "LayoutView",
            "align_content": null,
            "align_items": null,
            "align_self": null,
            "border": null,
            "bottom": null,
            "display": null,
            "flex": null,
            "flex_flow": null,
            "grid_area": null,
            "grid_auto_columns": null,
            "grid_auto_flow": null,
            "grid_auto_rows": null,
            "grid_column": null,
            "grid_gap": null,
            "grid_row": null,
            "grid_template_areas": null,
            "grid_template_columns": null,
            "grid_template_rows": null,
            "height": null,
            "justify_content": null,
            "justify_items": null,
            "left": null,
            "margin": null,
            "max_height": null,
            "max_width": null,
            "min_height": null,
            "min_width": null,
            "object_fit": null,
            "object_position": null,
            "order": null,
            "overflow": null,
            "overflow_x": null,
            "overflow_y": null,
            "padding": null,
            "right": null,
            "top": null,
            "visibility": null,
            "width": null
          }
        },
        "a0e929030ea84a27b8870fa25ab60e3f": {
          "model_module": "@jupyter-widgets/controls",
          "model_name": "DescriptionStyleModel",
          "model_module_version": "1.5.0",
          "state": {
            "_model_module": "@jupyter-widgets/controls",
            "_model_module_version": "1.5.0",
            "_model_name": "DescriptionStyleModel",
            "_view_count": null,
            "_view_module": "@jupyter-widgets/base",
            "_view_module_version": "1.2.0",
            "_view_name": "StyleView",
            "description_width": ""
          }
        }
      }
    }
  },
  "cells": [
    {
      "cell_type": "markdown",
      "metadata": {
        "id": "view-in-github",
        "colab_type": "text"
      },
      "source": [
        "<a href=\"https://colab.research.google.com/github/vaibhavb/zero-to-one-datascience-to-ai/blob/main/005_Logistic_Regression_With_Scikit_learn.ipynb\" target=\"_parent\"><img src=\"https://colab.research.google.com/assets/colab-badge.svg\" alt=\"Open In Colab\"/></a>"
      ]
    },
    {
      "cell_type": "markdown",
      "source": [
        "# Kaggle Data"
      ],
      "metadata": {
        "id": "uTgKfyrj8vO1"
      }
    },
    {
      "cell_type": "markdown",
      "source": [
        "## Kaggle"
      ],
      "metadata": {
        "id": "eCfyGLJE9ros"
      }
    },
    {
      "source": [
        "import kagglehub\n",
        "import numpy as np\n",
        "import pandas as pd\n",
        "from sklearn.preprocessing import StandardScaler\n",
        "from sklearn.model_selection import train_test_split\n",
        "import matplotlib.pyplot as plt\n",
        "kagglehub.login()\n"
      ],
      "metadata": {
        "colab": {
          "base_uri": "https://localhost:8080/",
          "height": 84,
          "referenced_widgets": [
            "818b91b4b90246258db2240791236208",
            "c77fd75cc407470093d4d94c5991a5fd",
            "8e19d55d71e942998bd685b8481e806d",
            "b173be0307964c42bb43ff5aafd7201f",
            "b090dbbc12d04d00813108c039224856",
            "6600248924394202a75d027574934f79",
            "ea4b3b42c9b1414f88a87fb403e89d2e",
            "64832c9731164457a39e0f393d96c4d8",
            "466413cd9b4843d68d2db8526188f50c",
            "8a58e846da0e4acba9b7e745edbe17b7",
            "733cac3d1f954fdcb3d7812894840c7e",
            "a58ce100ea7243c38c23a00ddf73a7b3",
            "19a306c0fd77456c9bcf810046b737e8",
            "98ef5036cb87464cb4be2dc665498647",
            "9d538bfc99ae42608641c9817a04e987",
            "b2b7bbdd539b40b29956c2a24dc483db",
            "753b598525f64e51a3cb081df67017fd",
            "73fbbf19e41e49ff8335ddc517162c0d",
            "880444214e5f4b8cbf71f15c297f2f7e",
            "ebcd529c46d24cbb96636d4b094fb1c5",
            "9f9e294fe4da48e193aa34c6109fc906",
            "c8eba012c914426f94b6724bec60a9c9",
            "a0e929030ea84a27b8870fa25ab60e3f"
          ]
        },
        "id": "-mslbvFFsw0V",
        "outputId": "00d14c2d-af56-4ac8-b987-e738cc521d27"
      },
      "cell_type": "code",
      "outputs": [
        {
          "output_type": "display_data",
          "data": {
            "text/plain": [
              "VBox(children=(HTML(value='<center> <img\\nsrc=https://www.kaggle.com/static/images/site-logo.png\\nalt=\\'Kaggle…"
            ],
            "application/vnd.jupyter.widget-view+json": {
              "version_major": 2,
              "version_minor": 0,
              "model_id": "818b91b4b90246258db2240791236208"
            }
          },
          "metadata": {}
        },
        {
          "output_type": "stream",
          "name": "stdout",
          "text": [
            "Kaggle credentials set.\n",
            "Kaggle credentials successfully validated.\n"
          ]
        }
      ],
      "execution_count": 1
    },
    {
      "cell_type": "markdown",
      "source": [
        "## Data Transformation"
      ],
      "metadata": {
        "id": "L2SsB7VL9lle"
      }
    },
    {
      "cell_type": "code",
      "source": [
        "titanic_path = kagglehub.competition_download('titanic')\n",
        "train_df = pd.read_csv(titanic_path + \"/train.csv\")\n",
        "df_processed = train_df.copy()\n",
        "df_processed.drop('Cabin', axis=1, inplace=True)\n",
        "median_age = df_processed['Age'].median() #median\n",
        "df_processed.fillna({'Age': median_age}, inplace=True)\n",
        "mode_embarked = df_processed['Embarked'].mode()[0] #mode returns a series so we take first\n",
        "df_processed.fillna({'Embarked': mode_embarked}, inplace=True)\n",
        "df_model_ready = df_processed.copy()\n",
        "df_model_ready = pd.get_dummies(df_model_ready, columns=['Sex'], prefix='Sex', drop_first=True)\n",
        "df_model_ready = pd.get_dummies(df_model_ready, columns=['Embarked'], prefix='Embarked', drop_first=True)\n",
        "columns_to_drop_for_model = ['Name', 'Ticket', 'PassengerId', 'SibSp', 'Parch']\n",
        "df_model_ready.drop(columns=columns_to_drop_for_model, axis=1, inplace=True)\n",
        "potential_numerical_cols = df_model_ready.select_dtypes(include=np.number).columns.tolist()\n",
        "cols_to_exclude_from_scaling = ['Survived']\n",
        "numerical_cols_for_scaling = [col for col in potential_numerical_cols if col not in cols_to_exclude_from_scaling]\n",
        "scaler = StandardScaler()\n",
        "df_model_ready[numerical_cols_for_scaling] = scaler.fit_transform(df_model_ready[numerical_cols_for_scaling])\n",
        "print(\"\\nDescriptive stats of scaled features (should have mean ~0, std ~1):\")\n",
        "print(df_model_ready[numerical_cols_for_scaling].describe())"
      ],
      "metadata": {
        "colab": {
          "base_uri": "https://localhost:8080/"
        },
        "id": "zcDlpA_J88a4",
        "outputId": "e46864df-c99a-4f5a-b870-4cedc792ffad"
      },
      "execution_count": 2,
      "outputs": [
        {
          "output_type": "stream",
          "name": "stdout",
          "text": [
            "Downloading from https://www.kaggle.com/api/v1/competitions/data/download-all/titanic...\n"
          ]
        },
        {
          "output_type": "stream",
          "name": "stderr",
          "text": [
            "100%|██████████| 34.1k/34.1k [00:00<00:00, 14.2MB/s]"
          ]
        },
        {
          "output_type": "stream",
          "name": "stdout",
          "text": [
            "Extracting files...\n",
            "\n",
            "Descriptive stats of scaled features (should have mean ~0, std ~1):\n",
            "             Pclass           Age          Fare\n",
            "count  8.910000e+02  8.910000e+02  8.910000e+02\n",
            "mean  -8.772133e-17  2.272780e-16  3.987333e-18\n",
            "std    1.000562e+00  1.000562e+00  1.000562e+00\n",
            "min   -1.566107e+00 -2.224156e+00 -6.484217e-01\n",
            "25%   -3.693648e-01 -5.657365e-01 -4.891482e-01\n",
            "50%    8.273772e-01 -1.046374e-01 -3.573909e-01\n",
            "75%    8.273772e-01  4.333115e-01 -2.424635e-02\n",
            "max    8.273772e-01  3.891554e+00  9.667167e+00\n"
          ]
        },
        {
          "output_type": "stream",
          "name": "stderr",
          "text": [
            "\n"
          ]
        }
      ]
    },
    {
      "cell_type": "markdown",
      "source": [
        "## Splitting Dataset"
      ],
      "metadata": {
        "id": "vMZDcfq_9yaD"
      }
    },
    {
      "cell_type": "code",
      "source": [
        "X = df_model_ready.drop('Survived', axis=1)\n",
        "y = df_model_ready['Survived']\n",
        "X_train, X_val, y_train, y_val = train_test_split(\n",
        "    X, y,\n",
        "    test_size=0.2,    # 20% for validation, 80% for training\n",
        "    random_state=42,  # The answer to life, the universe, and everything - for consistency\n",
        "    stratify=y        # Important for classification if y has more than 1 class and is not empty\n",
        ")\n",
        "print(\"\\nShapes of the resulting data splits:\")\n",
        "print(f\"X_train shape: {X_train.shape}, y_train shape: {y_train.shape}\")\n",
        "print(f\"X_val shape: {X_val.shape}, y_val shape: {y_val.shape}\")"
      ],
      "metadata": {
        "id": "aP62I1Pg9jna"
      },
      "execution_count": null,
      "outputs": []
    },
    {
      "cell_type": "markdown",
      "source": [
        "# Implementation with Scikit-learn"
      ],
      "metadata": {
        "id": "IQTnTK1o9xU6"
      }
    },
    {
      "cell_type": "code",
      "source": [
        "# Ensure necessary libraries and data are loaded from previous lessons\n",
        "import pandas as pd\n",
        "import numpy as np\n",
        "from sklearn.linear_model import LogisticRegression # Changed from LinearRegression\n",
        "from sklearn.metrics import accuracy_score, confusion_matrix, precision_score, recall_score, f1_score\n",
        "# import matplotlib.pyplot as plt # For potential plotting if needed\n",
        "\n",
        "# --- Assume X_train, y_train, X_val, y_val are pre-existing Pandas DataFrames/Series ---\n",
        "# For this script to be runnable standalone, let's create dummy preprocessed data\n",
        "# In your actual workflow, you'd use the data from your previous lessons.\n",
        "if 'X_train' not in locals() or 'y_train' not in locals():\n",
        "    print(\"--- X_train, y_train not found. Creating dummy preprocessed data for Lesson 5. ---\")\n",
        "    from sklearn.model_selection import train_test_split\n",
        "    from sklearn.preprocessing import StandardScaler\n",
        "    num_samples = 891\n",
        "    num_features = 8\n",
        "    dummy_X_data = np.random.rand(num_samples, num_features)\n",
        "    feature_names = [f'feature_{i}' for i in range(num_features)]\n",
        "    X_full = pd.DataFrame(dummy_X_data, columns=feature_names)\n",
        "    scaler = StandardScaler()\n",
        "    X_scaled_data = scaler.fit_transform(X_full)\n",
        "    X_full_scaled = pd.DataFrame(X_scaled_data, columns=feature_names)\n",
        "    y_full = pd.Series(np.random.randint(0, 2, num_samples), name='Survived')\n",
        "    X_train, X_val, y_train, y_val = train_test_split(\n",
        "        X_full_scaled, y_full, test_size=0.2, random_state=42, stratify=y_full\n",
        "    )\n",
        "    print(f\"Dummy X_train shape: {X_train.shape}, Dummy y_train shape: {y_train.shape}\")\n",
        "\n",
        "# 1. Initialize the Logistic Regression model\n",
        "# Common parameters:\n",
        "# solver: Algorithm to use in the optimization problem. Default is 'lbfgs'.\n",
        "#         'liblinear' is good for small datasets. 'saga' supports L1 and L2.\n",
        "# C: Inverse of regularization strength; smaller values specify stronger regularization. Default is 1.0.\n",
        "# max_iter: Maximum number of iterations taken for the solvers to converge.\n",
        "log_reg_model = LogisticRegression(solver='liblinear', random_state=42, max_iter=200)\n",
        "# 2. Train the model\n",
        "# Scikit-learn's LogisticRegression expects y_train to be a 1D array or Series.\n",
        "print(\"\\n--- Training Logistic Regression Model (Scikit-learn) ---\")\n",
        "log_reg_model.fit(X_train, y_train)\n",
        "print(\"Logistic Regression model trained.\")\n",
        "\n",
        "# You can inspect the learned coefficients (weights) and intercept if interested\n",
        "# print(f\"Coefficients (W): {log_reg_model.coef_}\")\n",
        "# print(f\"Intercept (b): {log_reg_model.intercept_}\")\n",
        "\n",
        "# 3. Make predictions\n",
        "# .predict() gives class labels directly (0 or 1)\n",
        "y_pred_class_train_logreg = log_reg_model.predict(X_train)\n",
        "y_pred_class_val_logreg = log_reg_model.predict(X_val)\n",
        "\n",
        "# .predict_proba() gives probabilities for each class [P(class=0), P(class=1)]\n",
        "y_pred_proba_val_logreg = log_reg_model.predict_proba(X_val)\n",
        "\n",
        "print(\"\\nFirst 5 class predictions (0 or 1) on validation set:\")\n",
        "print(y_pred_class_val_logreg[:5])\n",
        "print(\"\\nFirst 5 probability predictions [P(Died), P(Survived)] on validation set:\")\n",
        "print(y_pred_proba_val_logreg[:5])\n",
        "# We are interested in P(Survived), which is the second column\n",
        "print(\"\\nFirst 5 probabilities of 'Survived' on validation set:\")\n",
        "print(y_pred_proba_val_logreg[:5, 1])\n"
      ],
      "metadata": {
        "colab": {
          "base_uri": "https://localhost:8080/"
        },
        "id": "fwX0xMvl97zU",
        "outputId": "e211b02a-92f1-44d6-a6b8-c694a57ffca6"
      },
      "execution_count": 3,
      "outputs": [
        {
          "output_type": "stream",
          "name": "stdout",
          "text": [
            "--- X_train, y_train not found. Creating dummy preprocessed data for Lesson 5. ---\n",
            "Dummy X_train shape: (712, 8), Dummy y_train shape: (712,)\n",
            "\n",
            "--- Training Logistic Regression Model (Scikit-learn) ---\n",
            "Logistic Regression model trained.\n",
            "\n",
            "First 5 class predictions (0 or 1) on validation set:\n",
            "[0 1 0 1 1]\n",
            "\n",
            "First 5 probability predictions [P(Died), P(Survived)] on validation set:\n",
            "[[0.51140449 0.48859551]\n",
            " [0.46736111 0.53263889]\n",
            " [0.57433672 0.42566328]\n",
            " [0.47277332 0.52722668]\n",
            " [0.44021889 0.55978111]]\n",
            "\n",
            "First 5 probabilities of 'Survived' on validation set:\n",
            "[0.48859551 0.53263889 0.42566328 0.52722668 0.55978111]\n"
          ]
        }
      ]
    },
    {
      "cell_type": "markdown",
      "source": [
        "# Evaluation"
      ],
      "metadata": {
        "id": "UGUJDAKf-Vi9"
      }
    },
    {
      "cell_type": "code",
      "source": [
        "print(\"\\n--- Logistic Regression Model Evaluation (Scikit-learn) ---\")\n",
        "\n",
        "# Accuracy\n",
        "train_accuracy_logreg = accuracy_score(y_train, y_pred_class_train_logreg)\n",
        "val_accuracy_logreg = accuracy_score(y_val, y_pred_class_val_logreg)\n",
        "print(f\"Training Accuracy: {train_accuracy_logreg*100:.2f}%\")\n",
        "print(f\"Validation Accuracy: {val_accuracy_logreg*100:.2f}%\")\n",
        "\n",
        "# Confusion Matrix for Validation Set\n",
        "print(\"\\nValidation Set Confusion Matrix:\")\n",
        "cm_logreg = confusion_matrix(y_val, y_pred_class_val_logreg)\n",
        "print(cm_logreg)\n",
        "# For better display:\n",
        "TN = cm_logreg[0,0]; FP = cm_logreg[0,1]\n",
        "FN = cm_logreg[1,0]; TP = cm_logreg[1,1]\n",
        "print(f\"TN: {TN}, FP: {FP}, FN: {FN}, TP: {TP}\")\n",
        "\n",
        "\n",
        "# Precision, Recall, F1-Score for Validation Set\n",
        "if len(np.unique(y_val)) > 1: # Ensure there are positive and negative classes in true labels\n",
        "    precision_logreg = precision_score(y_val, y_pred_class_val_logreg, zero_division=0)\n",
        "    recall_logreg = recall_score(y_val, y_pred_class_val_logreg, zero_division=0)\n",
        "    f1_logreg = f1_score(y_val, y_pred_class_val_logreg, zero_division=0)\n",
        "    print(f\"Validation Precision: {precision_logreg:.4f}\")\n",
        "    print(f\"Validation Recall: {recall_logreg:.4f}\")\n",
        "    print(f\"Validation F1-Score: {f1_logreg:.4f}\")\n",
        "else:\n",
        "    print(\"Could not calculate Precision/Recall/F1 for validation set (e.g., only one class in true labels).\")"
      ],
      "metadata": {
        "colab": {
          "base_uri": "https://localhost:8080/"
        },
        "id": "3-SInVNp-YkO",
        "outputId": "abfed7cb-e259-472b-ae9a-aca9b3e335b8"
      },
      "execution_count": 4,
      "outputs": [
        {
          "output_type": "stream",
          "name": "stdout",
          "text": [
            "\n",
            "--- Logistic Regression Model Evaluation (Scikit-learn) ---\n",
            "Training Accuracy: 55.48%\n",
            "Validation Accuracy: 41.34%\n",
            "\n",
            "Validation Set Confusion Matrix:\n",
            "[[33 56]\n",
            " [49 41]]\n",
            "TN: 33, FP: 56, FN: 49, TP: 41\n",
            "Validation Precision: 0.4227\n",
            "Validation Recall: 0.4556\n",
            "Validation F1-Score: 0.4385\n"
          ]
        }
      ]
    },
    {
      "cell_type": "markdown",
      "source": [
        "# ROC Curve and AUC Score\n",
        "Good for evaluating probability-based classifiers"
      ],
      "metadata": {
        "id": "tlHjZpcn-lKB"
      }
    },
    {
      "cell_type": "code",
      "source": [
        "from sklearn.metrics import roc_curve, roc_auc_score\n",
        "y_pred_proba_survived_val = y_pred_proba_val_logreg[:, 1] # Probabilities for the positive class (Survived)\n",
        "fpr, tpr, thresholds = roc_curve(y_val, y_pred_proba_survived_val)\n",
        "auc_score = roc_auc_score(y_val, y_pred_proba_survived_val)\n",
        "print(f\"Validation AUC Score: {auc_score:.4f}\")\n",
        "\n",
        "plt.figure(figsize=(8,6))\n",
        "plt.plot(fpr, tpr, label=f\"Logistic Regression (AUC = {auc_score:.2f})\")\n",
        "plt.plot([0, 1], [0, 1], 'k--') # Random guessing line\n",
        "plt.xlabel('False Positive Rate')\n",
        "plt.ylabel('True Positive Rate')\n",
        "plt.title('ROC Curve')\n",
        "plt.legend()\n",
        "plt.show()"
      ],
      "metadata": {
        "colab": {
          "base_uri": "https://localhost:8080/",
          "height": 581
        },
        "id": "RCGv3G9Q-oU9",
        "outputId": "f628b50b-91bb-4b6a-fb51-3e1c12ce4419"
      },
      "execution_count": 5,
      "outputs": [
        {
          "output_type": "stream",
          "name": "stdout",
          "text": [
            "Validation AUC Score: 0.4453\n"
          ]
        },
        {
          "output_type": "display_data",
          "data": {
            "text/plain": [
              "<Figure size 800x600 with 1 Axes>"
            ],
            "image/png": "[encoded data removed]"
          },
          "metadata": {}
        }
      ]
    },
    {
      "cell_type": "markdown",
      "source": [
        "# Discussion\n",
        "- Performance: Compare the Scikit-learn Logistic Regression's performance (accuracy, F1-score) to the from-scratch version (Lesson 4). The Scikit-learn version is likely to be similar or slightly better due to optimized solvers and default regularization.\n",
        "- Ease of Use: Note how few lines of code are needed to train and predict with Scikit-learn.\n",
        "- Interpretability: Logistic Regression coefficients can be interpreted in terms of log-odds, providing some insight into feature importance (though less direct than linear regression coefficients for continuous outcomes).\n",
        "- Baseline Model: Logistic Regression is often a good baseline model for classification tasks. If more complex models (like neural networks) don't significantly outperform it, the simpler model might be preferred.\n",
        "\n"
      ],
      "metadata": {
        "id": "iq-bT7HT-_cV"
      }
    }
  ]
}