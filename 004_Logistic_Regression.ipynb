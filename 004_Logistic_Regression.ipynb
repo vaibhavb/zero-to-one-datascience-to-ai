{
  "nbformat": 4,
  "nbformat_minor": 0,
  "metadata": {
    "colab": {
      "provenance": [],
      "toc_visible": true,
      "authorship_tag": "ABX9TyPH8SR+EzfrYMvlrH6/go2g",
      "include_colab_link": true
    },
    "kernelspec": {
      "name": "python3",
      "display_name": "Python 3"
    },
    "language_info": {
      "name": "python"
    },
    "widgets": {
      "application/vnd.jupyter.widget-state+json": {
        "15cbf06ed5a440dba43f0bc2604d7473": {
          "model_module": "@jupyter-widgets/controls",
          "model_name": "VBoxModel",
          "model_module_version": "1.5.0",
          "state": {
            "_dom_classes": [],
            "_model_module": "@jupyter-widgets/controls",
            "_model_module_version": "1.5.0",
            "_model_name": "VBoxModel",
            "_view_count": null,
            "_view_module": "@jupyter-widgets/controls",
            "_view_module_version": "1.5.0",
            "_view_name": "VBoxView",
            "box_style": "",
            "children": [
              "IPY_MODEL_3553f5dd7ea247e7aeaade0f1ce41b7c",
              "IPY_MODEL_3a339211f123491284770d84b3a1dced",
              "IPY_MODEL_47b01e7e072b4b14a8e449b1194af738",
              "IPY_MODEL_93a722c71b7e45e48e3de19f73c6e908",
              "IPY_MODEL_dffc04fcdaf64725850b3ff137a04d86"
            ],
            "layout": "IPY_MODEL_3a2aa6fc79f3420c89cc19491ab0ca51"
          }
        },
        "3553f5dd7ea247e7aeaade0f1ce41b7c": {
          "model_module": "@jupyter-widgets/controls",
          "model_name": "HTMLModel",
          "model_module_version": "1.5.0",
          "state": {
            "_dom_classes": [],
            "_model_module": "@jupyter-widgets/controls",
            "_model_module_version": "1.5.0",
            "_model_name": "HTMLModel",
            "_view_count": null,
            "_view_module": "@jupyter-widgets/controls",
            "_view_module_version": "1.5.0",
            "_view_name": "HTMLView",
            "description": "",
            "description_tooltip": null,
            "layout": "IPY_MODEL_155c069255294628a024698e91ebc669",
            "placeholder": "​",
            "style": "IPY_MODEL_6c138ab0b232476a9638cd1b461d9dae",
            "value": "<center> <img\nsrc=https://www.kaggle.com/static/images/site-logo.png\nalt='Kaggle'> <br> Create an API token from <a\nhref=\"https://www.kaggle.com/settings/account\" target=\"_blank\">your Kaggle\nsettings page</a> and paste it below along with your Kaggle username. <br> </center>"
          }
        },
        "3a339211f123491284770d84b3a1dced": {
          "model_module": "@jupyter-widgets/controls",
          "model_name": "TextModel",
          "model_module_version": "1.5.0",
          "state": {
            "_dom_classes": [],
            "_model_module": "@jupyter-widgets/controls",
            "_model_module_version": "1.5.0",
            "_model_name": "TextModel",
            "_view_count": null,
            "_view_module": "@jupyter-widgets/controls",
            "_view_module_version": "1.5.0",
            "_view_name": "TextView",
            "continuous_update": true,
            "description": "Username:",
            "description_tooltip": null,
            "disabled": false,
            "layout": "IPY_MODEL_5e14d9a75e1f4510b7987938db6f748a",
            "placeholder": "​",
            "style": "IPY_MODEL_68bd0a299d884686abc9bd4538590701",
            "value": ""
          }
        },
        "47b01e7e072b4b14a8e449b1194af738": {
          "model_module": "@jupyter-widgets/controls",
          "model_name": "PasswordModel",
          "model_module_version": "1.5.0",
          "state": {
            "_dom_classes": [],
            "_model_module": "@jupyter-widgets/controls",
            "_model_module_version": "1.5.0",
            "_model_name": "PasswordModel",
            "_view_count": null,
            "_view_module": "@jupyter-widgets/controls",
            "_view_module_version": "1.5.0",
            "_view_name": "PasswordView",
            "continuous_update": true,
            "description": "Token:",
            "description_tooltip": null,
            "disabled": false,
            "layout": "IPY_MODEL_f5ecbc2b05de4807b7b376054460176f",
            "placeholder": "​",
            "style": "IPY_MODEL_e4f8f5a3ff1d4cbfbe07fc253c573af7",
            "value": ""
          }
        },
        "93a722c71b7e45e48e3de19f73c6e908": {
          "model_module": "@jupyter-widgets/controls",
          "model_name": "ButtonModel",
          "model_module_version": "1.5.0",
          "state": {
            "_dom_classes": [],
            "_model_module": "@jupyter-widgets/controls",
            "_model_module_version": "1.5.0",
            "_model_name": "ButtonModel",
            "_view_count": null,
            "_view_module": "@jupyter-widgets/controls",
            "_view_module_version": "1.5.0",
            "_view_name": "ButtonView",
            "button_style": "",
            "description": "Login",
            "disabled": false,
            "icon": "",
            "layout": "IPY_MODEL_94f9d73d43c24dbf870eee1a546d81a3",
            "style": "IPY_MODEL_832ebff800664a1baa7b8ba0ca573f0f",
            "tooltip": ""
          }
        },
        "dffc04fcdaf64725850b3ff137a04d86": {
          "model_module": "@jupyter-widgets/controls",
          "model_name": "HTMLModel",
          "model_module_version": "1.5.0",
          "state": {
            "_dom_classes": [],
            "_model_module": "@jupyter-widgets/controls",
            "_model_module_version": "1.5.0",
            "_model_name": "HTMLModel",
            "_view_count": null,
            "_view_module": "@jupyter-widgets/controls",
            "_view_module_version": "1.5.0",
            "_view_name": "HTMLView",
            "description": "",
            "description_tooltip": null,
            "layout": "IPY_MODEL_902b86193d70456ca9cf5316b343aea3",
            "placeholder": "​",
            "style": "IPY_MODEL_12ef9e64ef684d55b0bed2646e148c8e",
            "value": "\n<b>Thank You</b></center>"
          }
        },
        "3a2aa6fc79f3420c89cc19491ab0ca51": {
          "model_module": "@jupyter-widgets/base",
          "model_name": "LayoutModel",
          "model_module_version": "1.2.0",
          "state": {
            "_model_module": "@jupyter-widgets/base",
            "_model_module_version": "1.2.0",
            "_model_name": "LayoutModel",
            "_view_count": null,
            "_view_module": "@jupyter-widgets/base",
            "_view_module_version": "1.2.0",
            "_view_name": "LayoutView",
            "align_content": null,
            "align_items": "center",
            "align_self": null,
            "border": null,
            "bottom": null,
            "display": "flex",
            "flex": null,
            "flex_flow": "column",
            "grid_area": null,
            "grid_auto_columns": null,
            "grid_auto_flow": null,
            "grid_auto_rows": null,
            "grid_column": null,
            "grid_gap": null,
            "grid_row": null,
            "grid_template_areas": null,
            "grid_template_columns": null,
            "grid_template_rows": null,
            "height": null,
            "justify_content": null,
            "justify_items": null,
            "left": null,
            "margin": null,
            "max_height": null,
            "max_width": null,
            "min_height": null,
            "min_width": null,
            "object_fit": null,
            "object_position": null,
            "order": null,
            "overflow": null,
            "overflow_x": null,
            "overflow_y": null,
            "padding": null,
            "right": null,
            "top": null,
            "visibility": null,
            "width": "50%"
          }
        },
        "155c069255294628a024698e91ebc669": {
          "model_module": "@jupyter-widgets/base",
          "model_name": "LayoutModel",
          "model_module_version": "1.2.0",
          "state": {
            "_model_module": "@jupyter-widgets/base",
            "_model_module_version": "1.2.0",
            "_model_name": "LayoutModel",
            "_view_count": null,
            "_view_module": "@jupyter-widgets/base",
            "_view_module_version": "1.2.0",
            "_view_name": "LayoutView",
            "align_content": null,
            "align_items": null,
            "align_self": null,
            "border": null,
            "bottom": null,
            "display": null,
            "flex": null,
            "flex_flow": null,
            "grid_area": null,
            "grid_auto_columns": null,
            "grid_auto_flow": null,
            "grid_auto_rows": null,
            "grid_column": null,
            "grid_gap": null,
            "grid_row": null,
            "grid_template_areas": null,
            "grid_template_columns": null,
            "grid_template_rows": null,
            "height": null,
            "justify_content": null,
            "justify_items": null,
            "left": null,
            "margin": null,
            "max_height": null,
            "max_width": null,
            "min_height": null,
            "min_width": null,
            "object_fit": null,
            "object_position": null,
            "order": null,
            "overflow": null,
            "overflow_x": null,
            "overflow_y": null,
            "padding": null,
            "right": null,
            "top": null,
            "visibility": null,
            "width": null
          }
        },
        "6c138ab0b232476a9638cd1b461d9dae": {
          "model_module": "@jupyter-widgets/controls",
          "model_name": "DescriptionStyleModel",
          "model_module_version": "1.5.0",
          "state": {
            "_model_module": "@jupyter-widgets/controls",
            "_model_module_version": "1.5.0",
            "_model_name": "DescriptionStyleModel",
            "_view_count": null,
            "_view_module": "@jupyter-widgets/base",
            "_view_module_version": "1.2.0",
            "_view_name": "StyleView",
            "description_width": ""
          }
        },
        "5e14d9a75e1f4510b7987938db6f748a": {
          "model_module": "@jupyter-widgets/base",
          "model_name": "LayoutModel",
          "model_module_version": "1.2.0",
          "state": {
            "_model_module": "@jupyter-widgets/base",
            "_model_module_version": "1.2.0",
            "_model_name": "LayoutModel",
            "_view_count": null,
            "_view_module": "@jupyter-widgets/base",
            "_view_module_version": "1.2.0",
            "_view_name": "LayoutView",
            "align_content": null,
            "align_items": null,
            "align_self": null,
            "border": null,
            "bottom": null,
            "display": null,
            "flex": null,
            "flex_flow": null,
            "grid_area": null,
            "grid_auto_columns": null,
            "grid_auto_flow": null,
            "grid_auto_rows": null,
            "grid_column": null,
            "grid_gap": null,
            "grid_row": null,
            "grid_template_areas": null,
            "grid_template_columns": null,
            "grid_template_rows": null,
            "height": null,
            "justify_content": null,
            "justify_items": null,
            "left": null,
            "margin": null,
            "max_height": null,
            "max_width": null,
            "min_height": null,
            "min_width": null,
            "object_fit": null,
            "object_position": null,
            "order": null,
            "overflow": null,
            "overflow_x": null,
            "overflow_y": null,
            "padding": null,
            "right": null,
            "top": null,
            "visibility": null,
            "width": null
          }
        },
        "68bd0a299d884686abc9bd4538590701": {
          "model_module": "@jupyter-widgets/controls",
          "model_name": "DescriptionStyleModel",
          "model_module_version": "1.5.0",
          "state": {
            "_model_module": "@jupyter-widgets/controls",
            "_model_module_version": "1.5.0",
            "_model_name": "DescriptionStyleModel",
            "_view_count": null,
            "_view_module": "@jupyter-widgets/base",
            "_view_module_version": "1.2.0",
            "_view_name": "StyleView",
            "description_width": ""
          }
        },
        "f5ecbc2b05de4807b7b376054460176f": {
          "model_module": "@jupyter-widgets/base",
          "model_name": "LayoutModel",
          "model_module_version": "1.2.0",
          "state": {
            "_model_module": "@jupyter-widgets/base",
            "_model_module_version": "1.2.0",
            "_model_name": "LayoutModel",
            "_view_count": null,
            "_view_module": "@jupyter-widgets/base",
            "_view_module_version": "1.2.0",
            "_view_name": "LayoutView",
            "align_content": null,
            "align_items": null,
            "align_self": null,
            "border": null,
            "bottom": null,
            "display": null,
            "flex": null,
            "flex_flow": null,
            "grid_area": null,
            "grid_auto_columns": null,
            "grid_auto_flow": null,
            "grid_auto_rows": null,
            "grid_column": null,
            "grid_gap": null,
            "grid_row": null,
            "grid_template_areas": null,
            "grid_template_columns": null,
            "grid_template_rows": null,
            "height": null,
            "justify_content": null,
            "justify_items": null,
            "left": null,
            "margin": null,
            "max_height": null,
            "max_width": null,
            "min_height": null,
            "min_width": null,
            "object_fit": null,
            "object_position": null,
            "order": null,
            "overflow": null,
            "overflow_x": null,
            "overflow_y": null,
            "padding": null,
            "right": null,
            "top": null,
            "visibility": null,
            "width": null
          }
        },
        "e4f8f5a3ff1d4cbfbe07fc253c573af7": {
          "model_module": "@jupyter-widgets/controls",
          "model_name": "DescriptionStyleModel",
          "model_module_version": "1.5.0",
          "state": {
            "_model_module": "@jupyter-widgets/controls",
            "_model_module_version": "1.5.0",
            "_model_name": "DescriptionStyleModel",
            "_view_count": null,
            "_view_module": "@jupyter-widgets/base",
            "_view_module_version": "1.2.0",
            "_view_name": "StyleView",
            "description_width": ""
          }
        },
        "94f9d73d43c24dbf870eee1a546d81a3": {
          "model_module": "@jupyter-widgets/base",
          "model_name": "LayoutModel",
          "model_module_version": "1.2.0",
          "state": {
            "_model_module": "@jupyter-widgets/base",
            "_model_module_version": "1.2.0",
            "_model_name": "LayoutModel",
            "_view_count": null,
            "_view_module": "@jupyter-widgets/base",
            "_view_module_version": "1.2.0",
            "_view_name": "LayoutView",
            "align_content": null,
            "align_items": null,
            "align_self": null,
            "border": null,
            "bottom": null,
            "display": null,
            "flex": null,
            "flex_flow": null,
            "grid_area": null,
            "grid_auto_columns": null,
            "grid_auto_flow": null,
            "grid_auto_rows": null,
            "grid_column": null,
            "grid_gap": null,
            "grid_row": null,
            "grid_template_areas": null,
            "grid_template_columns": null,
            "grid_template_rows": null,
            "height": null,
            "justify_content": null,
            "justify_items": null,
            "left": null,
            "margin": null,
            "max_height": null,
            "max_width": null,
            "min_height": null,
            "min_width": null,
            "object_fit": null,
            "object_position": null,
            "order": null,
            "overflow": null,
            "overflow_x": null,
            "overflow_y": null,
            "padding": null,
            "right": null,
            "top": null,
            "visibility": null,
            "width": null
          }
        },
        "832ebff800664a1baa7b8ba0ca573f0f": {
          "model_module": "@jupyter-widgets/controls",
          "model_name": "ButtonStyleModel",
          "model_module_version": "1.5.0",
          "state": {
            "_model_module": "@jupyter-widgets/controls",
            "_model_module_version": "1.5.0",
            "_model_name": "ButtonStyleModel",
            "_view_count": null,
            "_view_module": "@jupyter-widgets/base",
            "_view_module_version": "1.2.0",
            "_view_name": "StyleView",
            "button_color": null,
            "font_weight": ""
          }
        },
        "902b86193d70456ca9cf5316b343aea3": {
          "model_module": "@jupyter-widgets/base",
          "model_name": "LayoutModel",
          "model_module_version": "1.2.0",
          "state": {
            "_model_module": "@jupyter-widgets/base",
            "_model_module_version": "1.2.0",
            "_model_name": "LayoutModel",
            "_view_count": null,
            "_view_module": "@jupyter-widgets/base",
            "_view_module_version": "1.2.0",
            "_view_name": "LayoutView",
            "align_content": null,
            "align_items": null,
            "align_self": null,
            "border": null,
            "bottom": null,
            "display": null,
            "flex": null,
            "flex_flow": null,
            "grid_area": null,
            "grid_auto_columns": null,
            "grid_auto_flow": null,
            "grid_auto_rows": null,
            "grid_column": null,
            "grid_gap": null,
            "grid_row": null,
            "grid_template_areas": null,
            "grid_template_columns": null,
            "grid_template_rows": null,
            "height": null,
            "justify_content": null,
            "justify_items": null,
            "left": null,
            "margin": null,
            "max_height": null,
            "max_width": null,
            "min_height": null,
            "min_width": null,
            "object_fit": null,
            "object_position": null,
            "order": null,
            "overflow": null,
            "overflow_x": null,
            "overflow_y": null,
            "padding": null,
            "right": null,
            "top": null,
            "visibility": null,
            "width": null
          }
        },
        "12ef9e64ef684d55b0bed2646e148c8e": {
          "model_module": "@jupyter-widgets/controls",
          "model_name": "DescriptionStyleModel",
          "model_module_version": "1.5.0",
          "state": {
            "_model_module": "@jupyter-widgets/controls",
            "_model_module_version": "1.5.0",
            "_model_name": "DescriptionStyleModel",
            "_view_count": null,
            "_view_module": "@jupyter-widgets/base",
            "_view_module_version": "1.2.0",
            "_view_name": "StyleView",
            "description_width": ""
          }
        }
      }
    }
  },
  "cells": [
    {
      "cell_type": "markdown",
      "metadata": {
        "id": "view-in-github",
        "colab_type": "text"
      },
      "source": [
        "<a href=\"https://colab.research.google.com/github/vaibhavb/zero-to-one-datascience-to-ai/blob/main/004_Logistic_Regression.ipynb\" target=\"_parent\"><img src=\"https://colab.research.google.com/assets/colab-badge.svg\" alt=\"Open In Colab\"/></a>"
      ]
    },
    {
      "cell_type": "code",
      "execution_count": 14,
      "metadata": {
        "id": "d_n7UawIvElO"
      },
      "outputs": [],
      "source": []
    },
    {
      "cell_type": "markdown",
      "source": [
        "# Kaggle & Data Setup"
      ],
      "metadata": {
        "id": "eLsofdSQwNkJ"
      }
    },
    {
      "cell_type": "code",
      "source": [],
      "metadata": {
        "id": "rZWBI8vowSn7"
      },
      "execution_count": 14,
      "outputs": []
    },
    {
      "source": [
        "import kagglehub\n",
        "import numpy as np\n",
        "import pandas as pd\n",
        "from sklearn.preprocessing import StandardScaler\n",
        "from sklearn.model_selection import train_test_split\n",
        "import matplotlib.pyplot as plt\n",
        "kagglehub.login()\n"
      ],
      "metadata": {
        "colab": {
          "base_uri": "https://localhost:8080/",
          "height": 273,
          "referenced_widgets": [
            "15cbf06ed5a440dba43f0bc2604d7473",
            "3553f5dd7ea247e7aeaade0f1ce41b7c",
            "3a339211f123491284770d84b3a1dced",
            "47b01e7e072b4b14a8e449b1194af738",
            "93a722c71b7e45e48e3de19f73c6e908",
            "dffc04fcdaf64725850b3ff137a04d86",
            "3a2aa6fc79f3420c89cc19491ab0ca51",
            "155c069255294628a024698e91ebc669",
            "6c138ab0b232476a9638cd1b461d9dae",
            "5e14d9a75e1f4510b7987938db6f748a",
            "68bd0a299d884686abc9bd4538590701",
            "f5ecbc2b05de4807b7b376054460176f",
            "e4f8f5a3ff1d4cbfbe07fc253c573af7",
            "94f9d73d43c24dbf870eee1a546d81a3",
            "832ebff800664a1baa7b8ba0ca573f0f",
            "902b86193d70456ca9cf5316b343aea3",
            "12ef9e64ef684d55b0bed2646e148c8e"
          ]
        },
        "id": "-mslbvFFsw0V",
        "outputId": "b090afdc-bd27-4b9a-ff76-a0b1a19ed71f"
      },
      "cell_type": "code",
      "outputs": [
        {
          "output_type": "display_data",
          "data": {
            "text/plain": [
              "VBox(children=(HTML(value='<center> <img\\nsrc=https://www.kaggle.com/static/images/site-logo.png\\nalt=\\'Kaggle…"
            ],
            "application/vnd.jupyter.widget-view+json": {
              "version_major": 2,
              "version_minor": 0,
              "model_id": "15cbf06ed5a440dba43f0bc2604d7473"
            }
          },
          "metadata": {}
        }
      ],
      "execution_count": 13
    },
    {
      "cell_type": "code",
      "source": [
        "titanic_path = kagglehub.competition_download('titanic')\n",
        "train_df = pd.read_csv(titanic_path + \"/train.csv\")\n",
        "df_processed = train_df.copy()\n",
        "df_processed.drop('Cabin', axis=1, inplace=True)\n",
        "median_age = df_processed['Age'].median() #median\n",
        "df_processed.fillna({'Age': median_age}, inplace=True)\n",
        "mode_embarked = df_processed['Embarked'].mode()[0] #mode returns a series so we take first\n",
        "df_processed.fillna({'Embarked': mode_embarked}, inplace=True)\n",
        "df_model_ready = df_processed.copy()\n",
        "df_model_ready = pd.get_dummies(df_model_ready, columns=['Sex'], prefix='Sex', drop_first=True)\n",
        "df_model_ready = pd.get_dummies(df_model_ready, columns=['Embarked'], prefix='Embarked', drop_first=True)\n",
        "columns_to_drop_for_model = ['Name', 'Ticket', 'PassengerId', 'SibSp', 'Parch']\n",
        "df_model_ready.drop(columns=columns_to_drop_for_model, axis=1, inplace=True)\n",
        "potential_numerical_cols = df_model_ready.select_dtypes(include=np.number).columns.tolist()\n",
        "cols_to_exclude_from_scaling = ['Survived']\n",
        "numerical_cols_for_scaling = [col for col in potential_numerical_cols if col not in cols_to_exclude_from_scaling]\n",
        "scaler = StandardScaler()\n",
        "df_model_ready[numerical_cols_for_scaling] = scaler.fit_transform(df_model_ready[numerical_cols_for_scaling])\n",
        "print(\"\\nDescriptive stats of scaled features (should have mean ~0, std ~1):\")\n",
        "print(df_model_ready[numerical_cols_for_scaling].describe())"
      ],
      "metadata": {
        "colab": {
          "base_uri": "https://localhost:8080/"
        },
        "id": "I-4cWIs9wa1K",
        "outputId": "dfb66eed-bf8a-498c-afad-d8ce3b182d3d"
      },
      "execution_count": 2,
      "outputs": [
        {
          "output_type": "stream",
          "name": "stdout",
          "text": [
            "\n",
            "Descriptive stats of scaled features (should have mean ~0, std ~1):\n",
            "             Pclass           Age          Fare\n",
            "count  8.910000e+02  8.910000e+02  8.910000e+02\n",
            "mean  -8.772133e-17  2.272780e-16  3.987333e-18\n",
            "std    1.000562e+00  1.000562e+00  1.000562e+00\n",
            "min   -1.566107e+00 -2.224156e+00 -6.484217e-01\n",
            "25%   -3.693648e-01 -5.657365e-01 -4.891482e-01\n",
            "50%    8.273772e-01 -1.046374e-01 -3.573909e-01\n",
            "75%    8.273772e-01  4.333115e-01 -2.424635e-02\n",
            "max    8.273772e-01  3.891554e+00  9.667167e+00\n"
          ]
        }
      ]
    },
    {
      "cell_type": "code",
      "source": [
        "X = df_model_ready.drop('Survived', axis=1)\n",
        "y = df_model_ready['Survived']\n",
        "X_train, X_val, y_train, y_val = train_test_split(\n",
        "    X, y,\n",
        "    test_size=0.2,    # 20% for validation, 80% for training\n",
        "    random_state=42,  # The answer to life, the universe, and everything - for consistency\n",
        "    stratify=y        # Important for classification if y has more than 1 class and is not empty\n",
        ")\n",
        "print(\"\\nShapes of the resulting data splits:\")\n",
        "print(f\"X_train shape: {X_train.shape}, y_train shape: {y_train.shape}\")\n",
        "print(f\"X_val shape: {X_val.shape}, y_val shape: {y_val.shape}\")\n"
      ],
      "metadata": {
        "colab": {
          "base_uri": "https://localhost:8080/"
        },
        "id": "FyEAqNtUycuv",
        "outputId": "74fb8d5a-683d-43bf-f5c2-09adc84193af"
      },
      "execution_count": 3,
      "outputs": [
        {
          "output_type": "stream",
          "name": "stdout",
          "text": [
            "\n",
            "Shapes of the resulting data splits:\n",
            "X_train shape: (712, 6), y_train shape: (712,)\n",
            "X_val shape: (179, 6), y_val shape: (179,)\n"
          ]
        }
      ]
    },
    {
      "cell_type": "markdown",
      "source": [
        "# Building Blocks"
      ],
      "metadata": {
        "id": "XMwsI4avzFVY"
      }
    },
    {
      "cell_type": "markdown",
      "source": [
        "## Convert Data to NumPy Arrays\n",
        "Our X_train, X_val, y_train, y_val are Pandas DataFrames/Series. We need them as NumPy arrays for our scratch implementation.\n"
      ],
      "metadata": {
        "id": "3Ui-IBiZzOs3"
      }
    },
    {
      "cell_type": "code",
      "source": [
        "X_train_np = X_train.to_numpy()\n",
        "X_val_np = X_val.to_numpy()\n",
        "y_train_np = y_train.to_numpy().reshape(-1, 1) # Reshape y to be a column vector (m, 1)\n",
        "y_val_np = y_val.to_numpy().reshape(-1, 1)   # Reshape y to be a column vector (m, 1)\n",
        "\n",
        "print(f\"X_train_np shape: {X_train_np.shape}, y_train_np shape: {y_train_np.shape}\")\n",
        "print(f\"X_val_np shape: {X_val_np.shape}, y_val_np shape: {y_val_np.shape}\")\n"
      ],
      "metadata": {
        "colab": {
          "base_uri": "https://localhost:8080/"
        },
        "id": "Kf9-Ld3izWdy",
        "outputId": "16258a4e-d17e-482f-ec03-6a26b273ec81"
      },
      "execution_count": 4,
      "outputs": [
        {
          "output_type": "stream",
          "name": "stdout",
          "text": [
            "X_train_np shape: (712, 6), y_train_np shape: (712, 1)\n",
            "X_val_np shape: (179, 6), y_val_np shape: (179, 1)\n"
          ]
        }
      ]
    },
    {
      "cell_type": "markdown",
      "source": [
        "## Sigmoid Function Implementation"
      ],
      "metadata": {
        "id": "CTsX_ZLuzfLQ"
      }
    },
    {
      "cell_type": "code",
      "source": [
        "def sigmoid(z):\n",
        "    \"\"\"\n",
        "    Compute the sigmoid of z.\n",
        "    Arguments:\n",
        "    z -- A scalar or numpy array of any size.\n",
        "    Return:\n",
        "    s -- sigmoid(z)\n",
        "    \"\"\"\n",
        "    # Clip z to avoid overflow in exp for very large negative z, and underflow for large positive z\n",
        "    # Although for exp(-z), overflow happens for large negative z.\n",
        "    # np.exp is generally robust, but direct large values can be an issue.\n",
        "    # For practical purposes, sigmoid(z) for z < -700 is ~0 and for z > 700 is ~1.\n",
        "    # However, direct exp(-z) can overflow for z like -1000.\n",
        "    # A common practice is to clip z or handle large values.\n",
        "    # For simplicity here, we'll assume z is within reasonable bounds for np.exp.\n",
        "    # Ensure z is a numpy array\n",
        "    z = np.array(z, dtype=np.float64)\n",
        "    # Clip z to prevent overflow\n",
        "    z = np.clip(z, -500, 500)\n",
        "    s = 1 / (1 + np.exp(-z))\n",
        "    return s\n",
        "\n",
        "# Test sigmoid\n",
        "print(\"\\nSigmoid function examples:\")\n",
        "test_z_values = np.array([-10, -1, 0, 1, 10])\n",
        "print(f\"sigmoid({test_z_values}) = {sigmoid(test_z_values)}\")"
      ],
      "metadata": {
        "colab": {
          "base_uri": "https://localhost:8080/"
        },
        "id": "7iM8MrmwzjPi",
        "outputId": "dbb1cef0-0738-4786-d60e-9441263cbdcb"
      },
      "execution_count": 14,
      "outputs": [
        {
          "output_type": "stream",
          "name": "stdout",
          "text": [
            "\n",
            "Sigmoid function examples:\n",
            "sigmoid([-10  -1   0   1  10]) = [4.53978687e-05 2.68941421e-01 5.00000000e-01 7.31058579e-01\n",
            " 9.99954602e-01]\n"
          ]
        }
      ]
    },
    {
      "cell_type": "markdown",
      "source": [
        "## Initialize Parameters (Weights W and Bias b)\n",
        "- $W$: A vector of weights, one for each feature. Initialize to zeros or small random numbers. For simplicity and to match many introductory examples, we'll use zeros.\n",
        "- $b$: A scalar bias term. Initialize to zero."
      ],
      "metadata": {
        "id": "wR106fzqzv1O"
      }
    },
    {
      "cell_type": "code",
      "source": [
        "def initialize_parameters_logistic(num_features):\n",
        "    \"\"\"\n",
        "    Initializes weights as a vector of zeros and bias as 0.\n",
        "    Argument:\n",
        "    num_features -- number of features in the input data (integer)\n",
        "    Returns:\n",
        "    W -- initialized vector of shape (num_features, 1)\n",
        "    b -- initialized scalar (float)\n",
        "    \"\"\"\n",
        "    W = np.zeros((num_features, 1)) # Column vector\n",
        "    b = 0.0\n",
        "    return W, b\n",
        "\n",
        "# Example initialization\n",
        "if 'X_train_np' in locals() and X_train_np.size > 0 :\n",
        "    example_num_features = X_train_np.shape[1]\n",
        "    W_example, b_example = initialize_parameters_logistic(example_num_features)\n",
        "    print(f\"\\nExample initialized W shape: {W_example.shape}\")\n",
        "    print(f\"Example initialized b: {b_example}\")\n"
      ],
      "metadata": {
        "colab": {
          "base_uri": "https://localhost:8080/"
        },
        "id": "mPr2JTEbz8Hc",
        "outputId": "3084cea9-b1f6-46eb-d7e3-47b3a873bf48"
      },
      "execution_count": 15,
      "outputs": [
        {
          "output_type": "stream",
          "name": "stdout",
          "text": [
            "\n",
            "Example initialized W shape: (6, 1)\n",
            "Example initialized b: 0.0\n"
          ]
        }
      ]
    },
    {
      "cell_type": "markdown",
      "source": [
        "## Forward Propagation: Compute Hypothesis and Cost\n",
        "* **Linear Combination:** $Z = X \\cdot W + b$\n",
        "    * If $X$ is $(m, n_f)$ (m samples, $n_f$ features) and $W$ is $(n_f, 1)$, then $X \\cdot W$ is $(m, 1)$.\n",
        "* **Activation (Hypothesis):** $A = \\sigma(Z)$\n",
        "    * This $A$ will be our predicted probabilities, shape $(m, 1)$.\n",
        "* **Cost Function (Binary Cross-Entropy or Log Loss):**\n",
        "    This measures how \"wrong\" our predictions are. For $m$ training examples:\n",
        "    $$J(W,b) = -\\frac{1}{m} \\sum_{i=1}^{m} [y^{(i)}\\log(a^{(i)}) + (1-y^{(i)})\\log(1-a^{(i)})]$$\n",
        "    where $a^{(i)}$ is the activation (predicted probability) for example $i$, and $y^{(i)}$ is the true label."
      ],
      "metadata": {
        "id": "1ito4kD60G4K"
      }
    },
    {
      "cell_type": "code",
      "source": [
        "def forward_propagation_logistic(X, Y, W, b):\n",
        "    \"\"\"\n",
        "    Implements the forward propagation to calculate predictions and cost.\n",
        "    Arguments:\n",
        "    X -- data of size (m_samples, n_features)\n",
        "    Y -- true \"label\" vector (0 or 1) of size (m_samples, 1)\n",
        "    W -- weights, a numpy array of size (n_features, 1)\n",
        "    b -- bias, a scalar\n",
        "    Returns:\n",
        "    A -- activations (predicted probabilities), vector of shape (m_samples, 1)\n",
        "    cost -- binary cross-entropy cost\n",
        "    \"\"\"\n",
        "    m = X.shape[0] # Number of samples\n",
        "\n",
        "    # Linear step\n",
        "    Z = np.dot(X, W) + b  # Z will have shape (m, 1)\n",
        "\n",
        "    # Activation step\n",
        "    A = sigmoid(Z)       # A will have shape (m, 1)\n",
        "\n",
        "    # Cost calculation\n",
        "    # Add a small epsilon for numerical stability to avoid log(0) or log(1-1)\n",
        "    epsilon = 1e-15\n",
        "    cost = (-1/m) * np.sum(Y * np.log(A + epsilon) + (1 - Y) * np.log(1 - A + epsilon))\n",
        "    cost = np.squeeze(cost) # Ensure cost is a scalar, not an array with one element\n",
        "\n",
        "    return A, cost"
      ],
      "metadata": {
        "id": "22UYHHp90SCe"
      },
      "execution_count": 16,
      "outputs": []
    },
    {
      "cell_type": "markdown",
      "source": [
        "## Backward Propagation: Compute Gradient\n",
        "This step calculates the derivatives (gradients) of the cost function with respect to $W$ and $b$. These tell us how to update $W$ and $b$ to reduce the cost.\n",
        "* $dZ = A - Y$ (Derivative of cost w.r.t $Z$, shape $(m, 1)$)\n",
        "* $dW = \\frac{1}{m} X^T \\cdot dZ$ (Derivative of cost w.r.t $W$, shape $(n_f, 1)$)\n",
        "* $db = \\frac{1}{m} \\sum_{i=1}^{m} (A - Y)^{(i)}$ (Derivative of cost w.r.t $b$, scalar)"
      ],
      "metadata": {
        "id": "SuznzVVv0YKM"
      }
    },
    {
      "cell_type": "code",
      "source": [
        "def backward_propagation_logistic(X, Y, A):\n",
        "    \"\"\"\n",
        "    Implements backward propagation to calculate gradients.\n",
        "    Arguments:\n",
        "    X -- data of size (m_samples, n_features)\n",
        "    Y -- true \"label\" vector (0 or 1) of size (m_samples, 1)\n",
        "    A -- activations (predictions) from forward_propagation, shape (m_samples, 1)\n",
        "    Returns:\n",
        "    dW -- gradient of the cost with respect to W, shape (n_features, 1)\n",
        "    db -- gradient of the cost with respect to b, scalar\n",
        "    \"\"\"\n",
        "    m = X.shape[0] # Number of samples\n",
        "\n",
        "    dZ = A - Y  # Shape (m, 1)\n",
        "    dW = (1/m) * np.dot(X.T, dZ) # X.T is (n_f, m), dZ is (m, 1) -> dW is (n_f, 1)\n",
        "    db = (1/m) * np.sum(dZ)      # Sum over all samples\n",
        "\n",
        "    return dW, db"
      ],
      "metadata": {
        "id": "r1zINKbf0gHX"
      },
      "execution_count": 17,
      "outputs": []
    },
    {
      "cell_type": "markdown",
      "source": [
        "## Optimization: Gradient Descent Update Rule\n",
        "Update the parameters $W$ and $b$ in the opposite direction of their gradients to minimize the cost.\n",
        "* $W = W - \\alpha \\cdot dW$\n",
        "* $b = b - \\alpha \\cdot db$\n",
        "Where $\\alpha$ is the **learning rate**, a hyperparameter that controls the step size."
      ],
      "metadata": {
        "id": "ea4b9BxY0qXf"
      }
    },
    {
      "cell_type": "code",
      "source": [
        "def update_parameters_logistic(W, b, dW, db, learning_rate):\n",
        "    \"\"\"\n",
        "    Updates parameters using the gradient descent rule.\n",
        "    Arguments:\n",
        "    W, b -- parameters\n",
        "    dW, db -- gradients\n",
        "    learning_rate -- alpha\n",
        "    Returns:\n",
        "    W, b -- updated parameters\n",
        "    \"\"\"\n",
        "    W = W - learning_rate * dW\n",
        "    b = b - learning_rate * db\n",
        "    return W, b\n"
      ],
      "metadata": {
        "id": "Jon1L5zb0xFU"
      },
      "execution_count": 18,
      "outputs": []
    },
    {
      "cell_type": "markdown",
      "source": [
        "# Training the Logistic Regression Model\n",
        "Lets combine all of the above"
      ],
      "metadata": {
        "id": "v16njd6203Fp"
      }
    },
    {
      "cell_type": "code",
      "source": [
        "def logistic_regression_model_scratch(X_train, Y_train, num_iterations=2000, learning_rate=0.01, print_cost_every=100):\n",
        "    \"\"\"\n",
        "    Builds and trains the logistic regression model from scratch.\n",
        "    Arguments:\n",
        "    X_train -- training data, shape (m_samples, n_features)\n",
        "    Y_train -- training labels, shape (m_samples, 1)\n",
        "    num_iterations -- number of iterations for gradient descent\n",
        "    learning_rate -- learning rate for gradient descent\n",
        "    print_cost_every -- print cost at this interval\n",
        "    Returns:\n",
        "    parameters -- dictionary containing final W and b\n",
        "    costs -- list of costs recorded during training\n",
        "    \"\"\"\n",
        "    if X_train.size == 0 or Y_train.size == 0:\n",
        "        print(\"Error: Training data is empty. Cannot train model.\")\n",
        "        return {\"W\": None, \"b\": None}, []\n",
        "\n",
        "    num_features = X_train.shape[1]\n",
        "    W, b = initialize_parameters_logistic(num_features)\n",
        "    costs = []\n",
        "\n",
        "    for i in range(num_iterations):\n",
        "        # Forward propagation\n",
        "        A, cost = forward_propagation_logistic(X_train, Y_train, W, b)\n",
        "\n",
        "        # Backward propagation\n",
        "        dW, db = backward_propagation_logistic(X_train, Y_train, A)\n",
        "\n",
        "        # Update parameters\n",
        "        W, b = update_parameters_logistic(W, b, dW, db, learning_rate)\n",
        "\n",
        "        # Record and print cost\n",
        "        if i % print_cost_every == 0:\n",
        "            costs.append(cost)\n",
        "            print(f\"Cost after iteration {i}: {cost:.4f}\")\n",
        "        if i == num_iterations - 1: # Also print final cost\n",
        "             if i % print_cost_every != 0: # Avoid double printing if last iter is a print_cost_every iter\n",
        "                costs.append(cost)\n",
        "                print(f\"Cost after iteration {i}: {cost:.4f}\")\n",
        "\n",
        "    parameters = {\"W\": W, \"b\": b}\n",
        "    return parameters, costs"
      ],
      "metadata": {
        "id": "f7ejuB_30_OO"
      },
      "execution_count": 19,
      "outputs": []
    },
    {
      "cell_type": "markdown",
      "source": [
        "## Test the model"
      ],
      "metadata": {
        "id": "PZAsbDKX8Cnv"
      }
    },
    {
      "cell_type": "code",
      "source": [
        "# prompt: add simple test case for logistic_regression_model_scratch\n",
        "\n",
        "# Simple test case for logistic_regression_model_scratch\n",
        "# Create some dummy data\n",
        "X_dummy = np.array([[0.5, -1.0], [1.2, 0.5], [-0.8, 2.0], [-0.1, -0.5]]) # Shape (4, 2)\n",
        "# Assign labels that would be 'learnable' by a simple model, e.g., based on the first feature\n",
        "y_dummy = np.array([[0], [1], [0], [0]]) # Shape (4, 1)\n",
        "\n",
        "print(\"\\n--- Running simple test case for logistic_regression_model_scratch ---\")\n",
        "print(f\"Dummy X shape: {X_dummy.shape}, Dummy y shape: {y_dummy.shape}\")\n",
        "\n",
        "# Run the training function on the dummy data\n",
        "# Use fewer iterations and a slightly different learning rate for the test\n",
        "test_parameters, test_costs = logistic_regression_model_scratch(\n",
        "    X_dummy, y_dummy, num_iterations=500, learning_rate=0.1, print_cost_every=100\n",
        ")\n",
        "\n",
        "print(\"\\nTest Case Results:\")\n",
        "print(f\"Final W: {test_parameters['W']}\")\n",
        "print(f\"Final b: {test_parameters['b']}\")\n",
        "print(f\"Final Cost: {test_costs[-1] if test_costs else 'N/A'}\")\n",
        "\n",
        "# Basic checks on the output\n",
        "assert test_parameters['W'] is not None and test_parameters['W'].shape == (X_dummy.shape[1], 1)\n",
        "assert isinstance(test_parameters['b'], (float, int))\n",
        "assert len(test_costs) > 0\n",
        "\n",
        "print(\"--- Simple test case finished ---\")\n"
      ],
      "metadata": {
        "colab": {
          "base_uri": "https://localhost:8080/"
        },
        "id": "tqry9rWS7wp2",
        "outputId": "809cde87-8a24-4735-9e8b-59da838f5125"
      },
      "execution_count": 20,
      "outputs": [
        {
          "output_type": "stream",
          "name": "stdout",
          "text": [
            "\n",
            "--- Running simple test case for logistic_regression_model_scratch ---\n",
            "Dummy X shape: (4, 2), Dummy y shape: (4, 1)\n",
            "Cost after iteration 0: 0.6931\n",
            "Cost after iteration 100: 0.2744\n",
            "Cost after iteration 200: 0.1635\n",
            "Cost after iteration 300: 0.1150\n",
            "Cost after iteration 400: 0.0883\n",
            "Cost after iteration 499: 0.0717\n",
            "\n",
            "Test Case Results:\n",
            "Final W: [[3.53043003]\n",
            " [1.32151442]]\n",
            "Final b: -2.6669784886694536\n",
            "Final Cost: 0.07166276677315697\n",
            "--- Simple test case finished ---\n"
          ]
        }
      ]
    },
    {
      "cell_type": "markdown",
      "source": [
        "## Train the model"
      ],
      "metadata": {
        "id": "Dy74JgBh2WyH"
      }
    },
    {
      "cell_type": "code",
      "source": [
        "# Train the model (using X_train_np and y_train_np from earlier)\n",
        "trained_parameters_scratch = {\"W\": None, \"b\": None} # Initialize to handle potential errors\n",
        "costs_history_scratch = []\n",
        "\n",
        "if 'X_train_np' in locals() and X_train_np.size > 0 and 'y_train_np' in locals() and y_train_np.size > 0:\n",
        "    print(\"\\n--- Training Logistic Regression Model (From Scratch) ---\")\n",
        "    trained_parameters_scratch, costs_history_scratch = logistic_regression_model_scratch(\n",
        "        X_train_np, y_train_np,\n",
        "        num_iterations=500, # Increased iterations\n",
        "        learning_rate=0.1,  # Experiment with learning rate\n",
        "        print_cost_every=100\n",
        "    )\n",
        "\n",
        "    if trained_parameters_scratch[\"W\"] is not None:\n",
        "        print(\"\\n--- Training Complete ---\")\n",
        "        print(f\"Final W (head): {trained_parameters_scratch['W'][:5].T if trained_parameters_scratch['W'].size > 0 else 'N/A'}\")\n",
        "        print(f\"Final b: {trained_parameters_scratch['b']:.4f}\")\n",
        "\n",
        "        # Plot the learning curve (cost vs. iterations)\n",
        "        plt.figure(figsize=(10,6))\n",
        "        # X-axis for plot should match iterations where cost was recorded\n",
        "        plot_iterations = np.arange(0, len(costs_history_scratch)) * 500\n",
        "        plt.plot(plot_iterations, costs_history_scratch)\n",
        "        plt.ylabel('Cost')\n",
        "        plt.xlabel(f'Iterations')\n",
        "        plt.title('Learning Curve for Logistic Regression (From Scratch)')\n",
        "        plt.show() # Ensure plot is displayed\n",
        "    else:\n",
        "        print(\"Training did not complete successfully.\")\n",
        "else:\n",
        "    print(\"\\nCannot train model: X_train_np or y_train_np is not defined or empty.\")"
      ],
      "metadata": {
        "colab": {
          "base_uri": "https://localhost:8080/",
          "height": 790
        },
        "id": "9U4-HkkK2ZEC",
        "outputId": "1f829ea1-ae11-407b-af35-b1c5517281b8"
      },
      "execution_count": 21,
      "outputs": [
        {
          "output_type": "stream",
          "name": "stdout",
          "text": [
            "\n",
            "--- Training Logistic Regression Model (From Scratch) ---\n",
            "Cost after iteration 0: 0.6931\n",
            "Cost after iteration 100: 0.5038\n",
            "Cost after iteration 200: 0.4754\n",
            "Cost after iteration 300: 0.4611\n",
            "Cost after iteration 400: 0.4532\n",
            "Cost after iteration 499: 0.4486\n",
            "\n",
            "--- Training Complete ---\n",
            "Final W (head): [[-0.8752240305117448 -0.4307818844099717 0.11002484069278844\n",
            "  -1.9949733554143212 0.34505604209858426]]\n",
            "Final b: 0.7056\n"
          ]
        },
        {
          "output_type": "display_data",
          "data": {
            "text/plain": [
              "<Figure size 1000x600 with 1 Axes>"
            ],
            "image/png": "[encoded data removed]"
          },
          "metadata": {}
        }
      ]
    },
    {
      "cell_type": "markdown",
      "source": [
        "# Make Predictions\n",
        "Use the learned $W$ and $b$ to predict on new data.\n"
      ],
      "metadata": {
        "id": "FuprzczZ35-Q"
      }
    },
    {
      "cell_type": "code",
      "source": [
        "def predict_logistic_scratch(X, W, b, threshold=0.5):\n",
        "    \"\"\"\n",
        "    Predicts binary labels (0 or 1) using learned logistic regression parameters.\n",
        "    Arguments:\n",
        "    X -- data to predict on, shape (m_samples, n_features)\n",
        "    W, b -- learned parameters\n",
        "    threshold -- probability threshold for classifying as 1\n",
        "    Returns:\n",
        "    Y_predictions -- numpy array of shape (m_samples, 1) with 0/1 predictions\n",
        "    \"\"\"\n",
        "    if W is None or b is None or X.size == 0:\n",
        "        print(\"Error: Model parameters or data missing for prediction.\")\n",
        "        return np.array([]) # Return empty array or handle error appropriately\n",
        "\n",
        "    m = X.shape[0]\n",
        "    Y_predictions = np.zeros((m, 1)) # Initialize predictions\n",
        "\n",
        "    # Compute activations (probabilities)\n",
        "    Z = np.dot(X, W) + b\n",
        "    A = sigmoid(Z)\n",
        "\n",
        "    # Convert probabilities to 0/1 predictions\n",
        "    Y_predictions = (A >= threshold).astype(int) # Boolean to int\n",
        "\n",
        "    return Y_predictions\n"
      ],
      "metadata": {
        "id": "CGmuhq_c4BKb"
      },
      "execution_count": 22,
      "outputs": []
    },
    {
      "cell_type": "markdown",
      "source": [
        "## Try it"
      ],
      "metadata": {
        "id": "aND9RGqzGZzz"
      }
    },
    {
      "cell_type": "code",
      "source": [
        "if trained_parameters_scratch[\"W\"] is not None and \\\n",
        "   'X_train_np' in locals() and X_train_np.size > 0 and \\\n",
        "   'X_val_np' in locals() and X_val_np.size > 0 and \\\n",
        "   'y_train_np' in locals() and y_train_np.size > 0 and \\\n",
        "   'y_val_np' in locals() and y_val_np.size > 0:\n",
        "\n",
        "    W_final_scratch = trained_parameters_scratch[\"W\"]\n",
        "    b_final_scratch = trained_parameters_scratch[\"b\"]\n",
        "\n",
        "    Y_pred_train_scratch = predict_logistic_scratch(X_train_np, W_final_scratch, b_final_scratch)\n",
        "    Y_pred_val_scratch = predict_logistic_scratch(X_val_np, W_final_scratch, b_final_scratch)\n",
        "\n",
        "    if Y_pred_train_scratch.size > 0 and Y_pred_val_scratch.size > 0:\n",
        "        # Calculate Accuracy\n",
        "        # Accuracy = (Number of correct predictions) / (Total number of predictions)\n",
        "        train_accuracy_scratch = np.mean(Y_pred_train_scratch == y_train_np) * 100\n",
        "        val_accuracy_scratch = np.mean(Y_pred_val_scratch == y_val_np) * 100\n",
        "\n",
        "        print(f\"\\n--- From Scratch Model Performance ---\")\n",
        "        print(f\"Training Accuracy: {train_accuracy_scratch:.2f}%\")\n",
        "        print(f\"Validation Accuracy: {val_accuracy_scratch:.2f}%\")\n",
        "    else:\n",
        "        print(\"Predictions could not be made or resulted in empty arrays.\")\n",
        "else:\n",
        "    print(\"\\nCannot make predictions: Model was not trained successfully or necessary data (X_train_np, X_val_np, y_train_np, y_val_np) is missing.\")\n"
      ],
      "metadata": {
        "colab": {
          "base_uri": "https://localhost:8080/"
        },
        "id": "jhwmdLij4FQ-",
        "outputId": "311af35d-d399-43a6-d6b6-ddbc5b578673"
      },
      "execution_count": 23,
      "outputs": [
        {
          "output_type": "stream",
          "name": "stdout",
          "text": [
            "\n",
            "--- From Scratch Model Performance ---\n",
            "Training Accuracy: 80.34%\n",
            "Validation Accuracy: 77.09%\n"
          ]
        }
      ]
    }
  ]
}