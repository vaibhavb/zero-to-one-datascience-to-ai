{
  "nbformat": 4,
  "nbformat_minor": 0,
  "metadata": {
    "colab": {
      "provenance": [],
      "toc_visible": true,
      "authorship_tag": "ABX9TyPVPd8Rl/CA32aBSSbeVdMF",
      "include_colab_link": true
    },
    "kernelspec": {
      "name": "python3",
      "display_name": "Python 3"
    },
    "language_info": {
      "name": "python"
    },
    "widgets": {
      "application/vnd.jupyter.widget-state+json": {
        "402e9cecb57149d4bf0d1e095720ef54": {
          "model_module": "@jupyter-widgets/controls",
          "model_name": "VBoxModel",
          "model_module_version": "1.5.0",
          "state": {
            "_dom_classes": [],
            "_model_module": "@jupyter-widgets/controls",
            "_model_module_version": "1.5.0",
            "_model_name": "VBoxModel",
            "_view_count": null,
            "_view_module": "@jupyter-widgets/controls",
            "_view_module_version": "1.5.0",
            "_view_name": "VBoxView",
            "box_style": "",
            "children": [
              "IPY_MODEL_1ba4c515232a40b0ad9c44325a2f1e49"
            ],
            "layout": "IPY_MODEL_35b43e7c34b849d3a41b46cb5e38e448"
          }
        },
        "6cdcd66ff210496286f38bff51fae9ed": {
          "model_module": "@jupyter-widgets/controls",
          "model_name": "HTMLModel",
          "model_module_version": "1.5.0",
          "state": {
            "_dom_classes": [],
            "_model_module": "@jupyter-widgets/controls",
            "_model_module_version": "1.5.0",
            "_model_name": "HTMLModel",
            "_view_count": null,
            "_view_module": "@jupyter-widgets/controls",
            "_view_module_version": "1.5.0",
            "_view_name": "HTMLView",
            "description": "",
            "description_tooltip": null,
            "layout": "IPY_MODEL_d5a0fdd2fe734788a9fc11a8f3304db1",
            "placeholder": "​",
            "style": "IPY_MODEL_321adecabc9947f3962f2888b4acf299",
            "value": "<center> <img\nsrc=https://www.kaggle.com/static/images/site-logo.png\nalt='Kaggle'> <br> Create an API token from <a\nhref=\"https://www.kaggle.com/settings/account\" target=\"_blank\">your Kaggle\nsettings page</a> and paste it below along with your Kaggle username. <br> </center>"
          }
        },
        "dd4550c553924f789deb9156720de29c": {
          "model_module": "@jupyter-widgets/controls",
          "model_name": "TextModel",
          "model_module_version": "1.5.0",
          "state": {
            "_dom_classes": [],
            "_model_module": "@jupyter-widgets/controls",
            "_model_module_version": "1.5.0",
            "_model_name": "TextModel",
            "_view_count": null,
            "_view_module": "@jupyter-widgets/controls",
            "_view_module_version": "1.5.0",
            "_view_name": "TextView",
            "continuous_update": true,
            "description": "Username:",
            "description_tooltip": null,
            "disabled": false,
            "layout": "IPY_MODEL_c1371c0634b84266878800f046cdb9c8",
            "placeholder": "​",
            "style": "IPY_MODEL_49cb32ed66344d52913b7ae27ff5589e",
            "value": "vaibhavkaggle"
          }
        },
        "679d36050001440e92adf2c17f453271": {
          "model_module": "@jupyter-widgets/controls",
          "model_name": "PasswordModel",
          "model_module_version": "1.5.0",
          "state": {
            "_dom_classes": [],
            "_model_module": "@jupyter-widgets/controls",
            "_model_module_version": "1.5.0",
            "_model_name": "PasswordModel",
            "_view_count": null,
            "_view_module": "@jupyter-widgets/controls",
            "_view_module_version": "1.5.0",
            "_view_name": "PasswordView",
            "continuous_update": true,
            "description": "Token:",
            "description_tooltip": null,
            "disabled": false,
            "layout": "IPY_MODEL_22901d656b5b444a820b1981d173dca3",
            "placeholder": "​",
            "style": "IPY_MODEL_2326a15fad454ff2ba48e0ef5f3866da",
            "value": ""
          }
        },
        "432f7749eeba4343af16fcb0b377c23b": {
          "model_module": "@jupyter-widgets/controls",
          "model_name": "ButtonModel",
          "model_module_version": "1.5.0",
          "state": {
            "_dom_classes": [],
            "_model_module": "@jupyter-widgets/controls",
            "_model_module_version": "1.5.0",
            "_model_name": "ButtonModel",
            "_view_count": null,
            "_view_module": "@jupyter-widgets/controls",
            "_view_module_version": "1.5.0",
            "_view_name": "ButtonView",
            "button_style": "",
            "description": "Login",
            "disabled": false,
            "icon": "",
            "layout": "IPY_MODEL_7418147bf5c340509630a445e192c727",
            "style": "IPY_MODEL_00360ad5bc6a4ee9a9c84940bdb648a0",
            "tooltip": ""
          }
        },
        "471d857fc1ef438ba03bb7adc6acf164": {
          "model_module": "@jupyter-widgets/controls",
          "model_name": "HTMLModel",
          "model_module_version": "1.5.0",
          "state": {
            "_dom_classes": [],
            "_model_module": "@jupyter-widgets/controls",
            "_model_module_version": "1.5.0",
            "_model_name": "HTMLModel",
            "_view_count": null,
            "_view_module": "@jupyter-widgets/controls",
            "_view_module_version": "1.5.0",
            "_view_name": "HTMLView",
            "description": "",
            "description_tooltip": null,
            "layout": "IPY_MODEL_be44aa1505c44a2793c22188a8478b88",
            "placeholder": "​",
            "style": "IPY_MODEL_aeeb66b52e494714930c4fe60991e8a2",
            "value": "\n<b>Thank You</b></center>"
          }
        },
        "35b43e7c34b849d3a41b46cb5e38e448": {
          "model_module": "@jupyter-widgets/base",
          "model_name": "LayoutModel",
          "model_module_version": "1.2.0",
          "state": {
            "_model_module": "@jupyter-widgets/base",
            "_model_module_version": "1.2.0",
            "_model_name": "LayoutModel",
            "_view_count": null,
            "_view_module": "@jupyter-widgets/base",
            "_view_module_version": "1.2.0",
            "_view_name": "LayoutView",
            "align_content": null,
            "align_items": "center",
            "align_self": null,
            "border": null,
            "bottom": null,
            "display": "flex",
            "flex": null,
            "flex_flow": "column",
            "grid_area": null,
            "grid_auto_columns": null,
            "grid_auto_flow": null,
            "grid_auto_rows": null,
            "grid_column": null,
            "grid_gap": null,
            "grid_row": null,
            "grid_template_areas": null,
            "grid_template_columns": null,
            "grid_template_rows": null,
            "height": null,
            "justify_content": null,
            "justify_items": null,
            "left": null,
            "margin": null,
            "max_height": null,
            "max_width": null,
            "min_height": null,
            "min_width": null,
            "object_fit": null,
            "object_position": null,
            "order": null,
            "overflow": null,
            "overflow_x": null,
            "overflow_y": null,
            "padding": null,
            "right": null,
            "top": null,
            "visibility": null,
            "width": "50%"
          }
        },
        "d5a0fdd2fe734788a9fc11a8f3304db1": {
          "model_module": "@jupyter-widgets/base",
          "model_name": "LayoutModel",
          "model_module_version": "1.2.0",
          "state": {
            "_model_module": "@jupyter-widgets/base",
            "_model_module_version": "1.2.0",
            "_model_name": "LayoutModel",
            "_view_count": null,
            "_view_module": "@jupyter-widgets/base",
            "_view_module_version": "1.2.0",
            "_view_name": "LayoutView",
            "align_content": null,
            "align_items": null,
            "align_self": null,
            "border": null,
            "bottom": null,
            "display": null,
            "flex": null,
            "flex_flow": null,
            "grid_area": null,
            "grid_auto_columns": null,
            "grid_auto_flow": null,
            "grid_auto_rows": null,
            "grid_column": null,
            "grid_gap": null,
            "grid_row": null,
            "grid_template_areas": null,
            "grid_template_columns": null,
            "grid_template_rows": null,
            "height": null,
            "justify_content": null,
            "justify_items": null,
            "left": null,
            "margin": null,
            "max_height": null,
            "max_width": null,
            "min_height": null,
            "min_width": null,
            "object_fit": null,
            "object_position": null,
            "order": null,
            "overflow": null,
            "overflow_x": null,
            "overflow_y": null,
            "padding": null,
            "right": null,
            "top": null,
            "visibility": null,
            "width": null
          }
        },
        "321adecabc9947f3962f2888b4acf299": {
          "model_module": "@jupyter-widgets/controls",
          "model_name": "DescriptionStyleModel",
          "model_module_version": "1.5.0",
          "state": {
            "_model_module": "@jupyter-widgets/controls",
            "_model_module_version": "1.5.0",
            "_model_name": "DescriptionStyleModel",
            "_view_count": null,
            "_view_module": "@jupyter-widgets/base",
            "_view_module_version": "1.2.0",
            "_view_name": "StyleView",
            "description_width": ""
          }
        },
        "c1371c0634b84266878800f046cdb9c8": {
          "model_module": "@jupyter-widgets/base",
          "model_name": "LayoutModel",
          "model_module_version": "1.2.0",
          "state": {
            "_model_module": "@jupyter-widgets/base",
            "_model_module_version": "1.2.0",
            "_model_name": "LayoutModel",
            "_view_count": null,
            "_view_module": "@jupyter-widgets/base",
            "_view_module_version": "1.2.0",
            "_view_name": "LayoutView",
            "align_content": null,
            "align_items": null,
            "align_self": null,
            "border": null,
            "bottom": null,
            "display": null,
            "flex": null,
            "flex_flow": null,
            "grid_area": null,
            "grid_auto_columns": null,
            "grid_auto_flow": null,
            "grid_auto_rows": null,
            "grid_column": null,
            "grid_gap": null,
            "grid_row": null,
            "grid_template_areas": null,
            "grid_template_columns": null,
            "grid_template_rows": null,
            "height": null,
            "justify_content": null,
            "justify_items": null,
            "left": null,
            "margin": null,
            "max_height": null,
            "max_width": null,
            "min_height": null,
            "min_width": null,
            "object_fit": null,
            "object_position": null,
            "order": null,
            "overflow": null,
            "overflow_x": null,
            "overflow_y": null,
            "padding": null,
            "right": null,
            "top": null,
            "visibility": null,
            "width": null
          }
        },
        "49cb32ed66344d52913b7ae27ff5589e": {
          "model_module": "@jupyter-widgets/controls",
          "model_name": "DescriptionStyleModel",
          "model_module_version": "1.5.0",
          "state": {
            "_model_module": "@jupyter-widgets/controls",
            "_model_module_version": "1.5.0",
            "_model_name": "DescriptionStyleModel",
            "_view_count": null,
            "_view_module": "@jupyter-widgets/base",
            "_view_module_version": "1.2.0",
            "_view_name": "StyleView",
            "description_width": ""
          }
        },
        "22901d656b5b444a820b1981d173dca3": {
          "model_module": "@jupyter-widgets/base",
          "model_name": "LayoutModel",
          "model_module_version": "1.2.0",
          "state": {
            "_model_module": "@jupyter-widgets/base",
            "_model_module_version": "1.2.0",
            "_model_name": "LayoutModel",
            "_view_count": null,
            "_view_module": "@jupyter-widgets/base",
            "_view_module_version": "1.2.0",
            "_view_name": "LayoutView",
            "align_content": null,
            "align_items": null,
            "align_self": null,
            "border": null,
            "bottom": null,
            "display": null,
            "flex": null,
            "flex_flow": null,
            "grid_area": null,
            "grid_auto_columns": null,
            "grid_auto_flow": null,
            "grid_auto_rows": null,
            "grid_column": null,
            "grid_gap": null,
            "grid_row": null,
            "grid_template_areas": null,
            "grid_template_columns": null,
            "grid_template_rows": null,
            "height": null,
            "justify_content": null,
            "justify_items": null,
            "left": null,
            "margin": null,
            "max_height": null,
            "max_width": null,
            "min_height": null,
            "min_width": null,
            "object_fit": null,
            "object_position": null,
            "order": null,
            "overflow": null,
            "overflow_x": null,
            "overflow_y": null,
            "padding": null,
            "right": null,
            "top": null,
            "visibility": null,
            "width": null
          }
        },
        "2326a15fad454ff2ba48e0ef5f3866da": {
          "model_module": "@jupyter-widgets/controls",
          "model_name": "DescriptionStyleModel",
          "model_module_version": "1.5.0",
          "state": {
            "_model_module": "@jupyter-widgets/controls",
            "_model_module_version": "1.5.0",
            "_model_name": "DescriptionStyleModel",
            "_view_count": null,
            "_view_module": "@jupyter-widgets/base",
            "_view_module_version": "1.2.0",
            "_view_name": "StyleView",
            "description_width": ""
          }
        },
        "7418147bf5c340509630a445e192c727": {
          "model_module": "@jupyter-widgets/base",
          "model_name": "LayoutModel",
          "model_module_version": "1.2.0",
          "state": {
            "_model_module": "@jupyter-widgets/base",
            "_model_module_version": "1.2.0",
            "_model_name": "LayoutModel",
            "_view_count": null,
            "_view_module": "@jupyter-widgets/base",
            "_view_module_version": "1.2.0",
            "_view_name": "LayoutView",
            "align_content": null,
            "align_items": null,
            "align_self": null,
            "border": null,
            "bottom": null,
            "display": null,
            "flex": null,
            "flex_flow": null,
            "grid_area": null,
            "grid_auto_columns": null,
            "grid_auto_flow": null,
            "grid_auto_rows": null,
            "grid_column": null,
            "grid_gap": null,
            "grid_row": null,
            "grid_template_areas": null,
            "grid_template_columns": null,
            "grid_template_rows": null,
            "height": null,
            "justify_content": null,
            "justify_items": null,
            "left": null,
            "margin": null,
            "max_height": null,
            "max_width": null,
            "min_height": null,
            "min_width": null,
            "object_fit": null,
            "object_position": null,
            "order": null,
            "overflow": null,
            "overflow_x": null,
            "overflow_y": null,
            "padding": null,
            "right": null,
            "top": null,
            "visibility": null,
            "width": null
          }
        },
        "00360ad5bc6a4ee9a9c84940bdb648a0": {
          "model_module": "@jupyter-widgets/controls",
          "model_name": "ButtonStyleModel",
          "model_module_version": "1.5.0",
          "state": {
            "_model_module": "@jupyter-widgets/controls",
            "_model_module_version": "1.5.0",
            "_model_name": "ButtonStyleModel",
            "_view_count": null,
            "_view_module": "@jupyter-widgets/base",
            "_view_module_version": "1.2.0",
            "_view_name": "StyleView",
            "button_color": null,
            "font_weight": ""
          }
        },
        "be44aa1505c44a2793c22188a8478b88": {
          "model_module": "@jupyter-widgets/base",
          "model_name": "LayoutModel",
          "model_module_version": "1.2.0",
          "state": {
            "_model_module": "@jupyter-widgets/base",
            "_model_module_version": "1.2.0",
            "_model_name": "LayoutModel",
            "_view_count": null,
            "_view_module": "@jupyter-widgets/base",
            "_view_module_version": "1.2.0",
            "_view_name": "LayoutView",
            "align_content": null,
            "align_items": null,
            "align_self": null,
            "border": null,
            "bottom": null,
            "display": null,
            "flex": null,
            "flex_flow": null,
            "grid_area": null,
            "grid_auto_columns": null,
            "grid_auto_flow": null,
            "grid_auto_rows": null,
            "grid_column": null,
            "grid_gap": null,
            "grid_row": null,
            "grid_template_areas": null,
            "grid_template_columns": null,
            "grid_template_rows": null,
            "height": null,
            "justify_content": null,
            "justify_items": null,
            "left": null,
            "margin": null,
            "max_height": null,
            "max_width": null,
            "min_height": null,
            "min_width": null,
            "object_fit": null,
            "object_position": null,
            "order": null,
            "overflow": null,
            "overflow_x": null,
            "overflow_y": null,
            "padding": null,
            "right": null,
            "top": null,
            "visibility": null,
            "width": null
          }
        },
        "aeeb66b52e494714930c4fe60991e8a2": {
          "model_module": "@jupyter-widgets/controls",
          "model_name": "DescriptionStyleModel",
          "model_module_version": "1.5.0",
          "state": {
            "_model_module": "@jupyter-widgets/controls",
            "_model_module_version": "1.5.0",
            "_model_name": "DescriptionStyleModel",
            "_view_count": null,
            "_view_module": "@jupyter-widgets/base",
            "_view_module_version": "1.2.0",
            "_view_name": "StyleView",
            "description_width": ""
          }
        },
        "2b66dd32a2344ee98bf42312799fa4f5": {
          "model_module": "@jupyter-widgets/controls",
          "model_name": "LabelModel",
          "model_module_version": "1.5.0",
          "state": {
            "_dom_classes": [],
            "_model_module": "@jupyter-widgets/controls",
            "_model_module_version": "1.5.0",
            "_model_name": "LabelModel",
            "_view_count": null,
            "_view_module": "@jupyter-widgets/controls",
            "_view_module_version": "1.5.0",
            "_view_name": "LabelView",
            "description": "",
            "description_tooltip": null,
            "layout": "IPY_MODEL_ab6fb497c23b4b228790bbb1424b3c1e",
            "placeholder": "​",
            "style": "IPY_MODEL_9e5de66e5e7d43c29a0fc6f164df44e8",
            "value": "Connecting..."
          }
        },
        "ab6fb497c23b4b228790bbb1424b3c1e": {
          "model_module": "@jupyter-widgets/base",
          "model_name": "LayoutModel",
          "model_module_version": "1.2.0",
          "state": {
            "_model_module": "@jupyter-widgets/base",
            "_model_module_version": "1.2.0",
            "_model_name": "LayoutModel",
            "_view_count": null,
            "_view_module": "@jupyter-widgets/base",
            "_view_module_version": "1.2.0",
            "_view_name": "LayoutView",
            "align_content": null,
            "align_items": null,
            "align_self": null,
            "border": null,
            "bottom": null,
            "display": null,
            "flex": null,
            "flex_flow": null,
            "grid_area": null,
            "grid_auto_columns": null,
            "grid_auto_flow": null,
            "grid_auto_rows": null,
            "grid_column": null,
            "grid_gap": null,
            "grid_row": null,
            "grid_template_areas": null,
            "grid_template_columns": null,
            "grid_template_rows": null,
            "height": null,
            "justify_content": null,
            "justify_items": null,
            "left": null,
            "margin": null,
            "max_height": null,
            "max_width": null,
            "min_height": null,
            "min_width": null,
            "object_fit": null,
            "object_position": null,
            "order": null,
            "overflow": null,
            "overflow_x": null,
            "overflow_y": null,
            "padding": null,
            "right": null,
            "top": null,
            "visibility": null,
            "width": null
          }
        },
        "9e5de66e5e7d43c29a0fc6f164df44e8": {
          "model_module": "@jupyter-widgets/controls",
          "model_name": "DescriptionStyleModel",
          "model_module_version": "1.5.0",
          "state": {
            "_model_module": "@jupyter-widgets/controls",
            "_model_module_version": "1.5.0",
            "_model_name": "DescriptionStyleModel",
            "_view_count": null,
            "_view_module": "@jupyter-widgets/base",
            "_view_module_version": "1.2.0",
            "_view_name": "StyleView",
            "description_width": ""
          }
        },
        "1ba4c515232a40b0ad9c44325a2f1e49": {
          "model_module": "@jupyter-widgets/controls",
          "model_name": "LabelModel",
          "model_module_version": "1.5.0",
          "state": {
            "_dom_classes": [],
            "_model_module": "@jupyter-widgets/controls",
            "_model_module_version": "1.5.0",
            "_model_name": "LabelModel",
            "_view_count": null,
            "_view_module": "@jupyter-widgets/controls",
            "_view_module_version": "1.5.0",
            "_view_name": "LabelView",
            "description": "",
            "description_tooltip": null,
            "layout": "IPY_MODEL_867eb53dd8744747a881127211b29e9d",
            "placeholder": "​",
            "style": "IPY_MODEL_c3a306b886b7425a9cd5d09bc6d69dc5",
            "value": "Kaggle credentials successfully validated."
          }
        },
        "867eb53dd8744747a881127211b29e9d": {
          "model_module": "@jupyter-widgets/base",
          "model_name": "LayoutModel",
          "model_module_version": "1.2.0",
          "state": {
            "_model_module": "@jupyter-widgets/base",
            "_model_module_version": "1.2.0",
            "_model_name": "LayoutModel",
            "_view_count": null,
            "_view_module": "@jupyter-widgets/base",
            "_view_module_version": "1.2.0",
            "_view_name": "LayoutView",
            "align_content": null,
            "align_items": null,
            "align_self": null,
            "border": null,
            "bottom": null,
            "display": null,
            "flex": null,
            "flex_flow": null,
            "grid_area": null,
            "grid_auto_columns": null,
            "grid_auto_flow": null,
            "grid_auto_rows": null,
            "grid_column": null,
            "grid_gap": null,
            "grid_row": null,
            "grid_template_areas": null,
            "grid_template_columns": null,
            "grid_template_rows": null,
            "height": null,
            "justify_content": null,
            "justify_items": null,
            "left": null,
            "margin": null,
            "max_height": null,
            "max_width": null,
            "min_height": null,
            "min_width": null,
            "object_fit": null,
            "object_position": null,
            "order": null,
            "overflow": null,
            "overflow_x": null,
            "overflow_y": null,
            "padding": null,
            "right": null,
            "top": null,
            "visibility": null,
            "width": null
          }
        },
        "c3a306b886b7425a9cd5d09bc6d69dc5": {
          "model_module": "@jupyter-widgets/controls",
          "model_name": "DescriptionStyleModel",
          "model_module_version": "1.5.0",
          "state": {
            "_model_module": "@jupyter-widgets/controls",
            "_model_module_version": "1.5.0",
            "_model_name": "DescriptionStyleModel",
            "_view_count": null,
            "_view_module": "@jupyter-widgets/base",
            "_view_module_version": "1.2.0",
            "_view_name": "StyleView",
            "description_width": ""
          }
        }
      }
    }
  },
  "cells": [
    {
      "cell_type": "markdown",
      "metadata": {
        "id": "view-in-github",
        "colab_type": "text"
      },
      "source": [
        "<a href=\"https://colab.research.google.com/github/vaibhavb/zero-to-one-datascience-to-ai/blob/main/003_Data_Preprocessing.ipynb\" target=\"_parent\"><img src=\"https://colab.research.google.com/assets/colab-badge.svg\" alt=\"Open In Colab\"/></a>"
      ]
    },
    {
      "cell_type": "code",
      "execution_count": null,
      "metadata": {
        "id": "uhj8w88ewmyj"
      },
      "outputs": [],
      "source": []
    },
    {
      "cell_type": "markdown",
      "source": [
        "# Kaggle and Data Setup"
      ],
      "metadata": {
        "id": "-G2smJZV2VXU"
      }
    },
    {
      "cell_type": "code",
      "execution_count": null,
      "metadata": {
        "id": "-lkMXtzm10mV"
      },
      "outputs": [],
      "source": []
    },
    {
      "source": [
        "# IMPORTANT: SOME KAGGLE DATA SOURCES ARE PRIVATE\n",
        "# RUN THIS CELL IN ORDER TO IMPORT YOUR KAGGLE DATA SOURCES.\n",
        "import kagglehub\n",
        "kagglehub.login()\n"
      ],
      "metadata": {
        "colab": {
          "base_uri": "https://localhost:8080/",
          "height": 84,
          "referenced_widgets": [
            "402e9cecb57149d4bf0d1e095720ef54",
            "6cdcd66ff210496286f38bff51fae9ed",
            "dd4550c553924f789deb9156720de29c",
            "679d36050001440e92adf2c17f453271",
            "432f7749eeba4343af16fcb0b377c23b",
            "471d857fc1ef438ba03bb7adc6acf164",
            "35b43e7c34b849d3a41b46cb5e38e448",
            "d5a0fdd2fe734788a9fc11a8f3304db1",
            "321adecabc9947f3962f2888b4acf299",
            "c1371c0634b84266878800f046cdb9c8",
            "49cb32ed66344d52913b7ae27ff5589e",
            "22901d656b5b444a820b1981d173dca3",
            "2326a15fad454ff2ba48e0ef5f3866da",
            "7418147bf5c340509630a445e192c727",
            "00360ad5bc6a4ee9a9c84940bdb648a0",
            "be44aa1505c44a2793c22188a8478b88",
            "aeeb66b52e494714930c4fe60991e8a2",
            "2b66dd32a2344ee98bf42312799fa4f5",
            "ab6fb497c23b4b228790bbb1424b3c1e",
            "9e5de66e5e7d43c29a0fc6f164df44e8",
            "1ba4c515232a40b0ad9c44325a2f1e49",
            "867eb53dd8744747a881127211b29e9d",
            "c3a306b886b7425a9cd5d09bc6d69dc5"
          ]
        },
        "id": "-mslbvFFsw0V",
        "outputId": "2a86f13e-33f4-48e6-c402-28d02bc9214e"
      },
      "cell_type": "code",
      "outputs": [
        {
          "output_type": "display_data",
          "data": {
            "text/plain": [
              "VBox(children=(HTML(value='<center> <img\\nsrc=https://www.kaggle.com/static/images/site-logo.png\\nalt=\\'Kaggle…"
            ],
            "application/vnd.jupyter.widget-view+json": {
              "version_major": 2,
              "version_minor": 0,
              "model_id": "402e9cecb57149d4bf0d1e095720ef54"
            }
          },
          "metadata": {}
        },
        {
          "output_type": "stream",
          "name": "stdout",
          "text": [
            "Kaggle credentials set.\n",
            "Kaggle credentials successfully validated.\n"
          ]
        }
      ],
      "execution_count": 1
    },
    {
      "cell_type": "code",
      "source": [
        "titanic_path = kagglehub.competition_download('titanic')\n",
        "\n",
        "print('Data source import complete.')"
      ],
      "metadata": {
        "colab": {
          "base_uri": "https://localhost:8080/"
        },
        "id": "qjs_tPhr1_LH",
        "outputId": "222f8594-da2c-4fe2-fabe-42ef08e84a46"
      },
      "execution_count": 2,
      "outputs": [
        {
          "output_type": "stream",
          "name": "stdout",
          "text": [
            "Downloading from https://www.kaggle.com/api/v1/competitions/data/download-all/titanic...\n"
          ]
        },
        {
          "output_type": "stream",
          "name": "stderr",
          "text": [
            "100%|██████████| 34.1k/34.1k [00:00<00:00, 30.6MB/s]"
          ]
        },
        {
          "output_type": "stream",
          "name": "stdout",
          "text": [
            "Extracting files...\n",
            "Data source import complete.\n"
          ]
        },
        {
          "output_type": "stream",
          "name": "stderr",
          "text": [
            "\n"
          ]
        }
      ]
    },
    {
      "cell_type": "markdown",
      "source": [
        "# `df_processed`\n",
        "- Handle missing data in `Age`, `Cabin`, and `Embarked`.\n",
        "- Created new features: `FamilySize` and `IsAlone`."
      ],
      "metadata": {
        "id": "JSmx0HZv-FeE"
      }
    },
    {
      "cell_type": "code",
      "source": [
        "import pandas as pd\n",
        "train_df = pd.read_csv(titanic_path + \"/train.csv\")\n",
        "df_processed = train_df.copy()\n",
        "df_processed.drop('Cabin', axis=1, inplace=True)\n",
        "median_age = df_processed['Age'].median() #median\n",
        "df_processed.fillna({'Age': median_age}, inplace=True)\n",
        "mode_embarked = df_processed['Embarked'].mode()[0] #mode returns a series so we take first\n",
        "df_processed.fillna({'Embarked': mode_embarked}, inplace=True)\n"
      ],
      "metadata": {
        "id": "0SLlsiQK2mwg"
      },
      "execution_count": 4,
      "outputs": []
    },
    {
      "cell_type": "markdown",
      "source": [
        "# Type Conversions\n",
        "Machine learning algorithms typically require numerical input. We need to convert categorical features (text-based) into numbers"
      ],
      "metadata": {
        "id": "NIVWyECzAGsv"
      }
    },
    {
      "cell_type": "code",
      "source": [
        "print(df_processed.dtypes)"
      ],
      "metadata": {
        "colab": {
          "base_uri": "https://localhost:8080/"
        },
        "id": "L2HC8-EJAN-r",
        "outputId": "342e59e9-0d2e-4bf4-8971-39924399c684"
      },
      "execution_count": 5,
      "outputs": [
        {
          "output_type": "stream",
          "name": "stdout",
          "text": [
            "PassengerId      int64\n",
            "Survived         int64\n",
            "Pclass           int64\n",
            "Name            object\n",
            "Sex             object\n",
            "Age            float64\n",
            "SibSp            int64\n",
            "Parch            int64\n",
            "Ticket          object\n",
            "Fare           float64\n",
            "Embarked        object\n",
            "dtype: object\n"
          ]
        }
      ]
    },
    {
      "cell_type": "markdown",
      "source": [
        "## Techniques for Conversions\n",
        "* **Label Encoding**\n",
        "  * Pros:* Simple.\n",
        "  * *Cons:* Can inadvertently introduce an ordinal relationship where none exists (e.g., model might think category 2 is \"greater\" than category\n",
        "      1). Usually not ideal for nominal categories (like `Sex` or `Embarked`) if using linear models or distance-based models.\n",
        "\n",
        "* **One-Hot Encoding (Dummy Variables):** Creates new binary (0 or 1) columns for each category. For example, if `Embarked` has values S, C, Q, one-hot encoding creates three new columns: `Embarked_S`, `Embarked_C`, `Embarked_Q`. A passenger from port S would have 1 in `Embarked_S` and 0 in the others.\n",
        "  * *Pros:* No ordinal relationship is implied. Generally better for nominal data with most algorithms.\n",
        "  * *Cons:* Can increase the number of features (dimensionality), especially if a category has many unique values."
      ],
      "metadata": {
        "id": "Uw4aqr7H-GZr"
      }
    },
    {
      "cell_type": "markdown",
      "source": [
        "### One-Hot Encoding with Pandas\n",
        "\n",
        "Pandas has a convenient function `pd.get_dummies()` for this."
      ],
      "metadata": {
        "id": "vrq45yh_BfqQ"
      }
    },
    {
      "cell_type": "code",
      "source": [
        "# Let's work on a new copy for this stage, or continue with df_processed\n",
        "df_model_ready = df_processed.copy()\n",
        "\n",
        "# One-Hot Encode 'Sex'\n",
        "# drop_first=True is often used to avoid multicollinearity (dummy variable trap).\n",
        "# If you have k categories, drop_first=True creates k-1 dummy variables.\n",
        "# The dropped category is implicitly represented when all other dummies are 0.\n",
        "if 'Sex' in df_model_ready.columns:\n",
        "        df_model_ready = pd.get_dummies(df_model_ready, columns=['Sex'], prefix='Sex', drop_first=True)\n",
        "        print(\"\\nDataFrame after One-Hot Encoding 'Sex'.\")\n",
        "else:\n",
        "        print(\"\\n'Sex' column not found for One-Hot Encoding.\")\n",
        "\n",
        "\n",
        "# One-Hot Encode 'Embarked'\n",
        "if 'Embarked' in df_model_ready.columns:\n",
        "        df_model_ready = pd.get_dummies(df_model_ready, columns=['Embarked'], prefix='Embarked', drop_first=True)\n",
        "        print(\"DataFrame after One-Hot Encoding 'Embarked'.\")\n",
        "else:\n",
        "        print(\"\\n'Embarked' column not found for One-Hot Encoding.\")\n",
        "\n",
        "print(\"\\nDataFrame after One-Hot Encoding (head):\")\n",
        "print(df_model_ready.head())\n",
        "print(\"\\nNew columns created (if any):\")\n",
        "print(df_model_ready.columns)"
      ],
      "metadata": {
        "colab": {
          "base_uri": "https://localhost:8080/"
        },
        "id": "-F4sqSsIB-_m",
        "outputId": "78e31791-b9c0-4387-81c0-8722894733fa"
      },
      "execution_count": 7,
      "outputs": [
        {
          "output_type": "stream",
          "name": "stdout",
          "text": [
            "\n",
            "DataFrame after One-Hot Encoding 'Sex'.\n",
            "DataFrame after One-Hot Encoding 'Embarked'.\n",
            "\n",
            "DataFrame after One-Hot Encoding (head):\n",
            "   PassengerId  Survived  Pclass  \\\n",
            "0            1         0       3   \n",
            "1            2         1       1   \n",
            "2            3         1       3   \n",
            "3            4         1       1   \n",
            "4            5         0       3   \n",
            "\n",
            "                                                Name   Age  SibSp  Parch  \\\n",
            "0                            Braund, Mr. Owen Harris  22.0      1      0   \n",
            "1  Cumings, Mrs. John Bradley (Florence Briggs Th...  38.0      1      0   \n",
            "2                             Heikkinen, Miss. Laina  26.0      0      0   \n",
            "3       Futrelle, Mrs. Jacques Heath (Lily May Peel)  35.0      1      0   \n",
            "4                           Allen, Mr. William Henry  35.0      0      0   \n",
            "\n",
            "             Ticket     Fare  Sex_male  Embarked_Q  Embarked_S  \n",
            "0         A/5 21171   7.2500      True       False        True  \n",
            "1          PC 17599  71.2833     False       False       False  \n",
            "2  STON/O2. 3101282   7.9250     False       False        True  \n",
            "3            113803  53.1000     False       False        True  \n",
            "4            373450   8.0500      True       False        True  \n",
            "\n",
            "New columns created (if any):\n",
            "Index(['PassengerId', 'Survived', 'Pclass', 'Name', 'Age', 'SibSp', 'Parch',\n",
            "       'Ticket', 'Fare', 'Sex_male', 'Embarked_Q', 'Embarked_S'],\n",
            "      dtype='object')\n"
          ]
        }
      ]
    },
    {
      "cell_type": "markdown",
      "source": [
        "## Drop Unnecessary Columns\n",
        "* `Name`: We haven't extracted titles yet, so the raw name is hard for most models to use.\n",
        "* `Ticket`: Ticket numbers are often unique or require complex parsing.\n",
        "* `PassengerId`: Just an identifier.\n",
        "* `SibSp` and `Parch`: We created `FamilySize` and `IsAlone`, which might capture this information more effectively. Let's decide if we want to ke\n",
        "ep the originals or just the engineered ones. For now, let's keep `FamilySize` and `IsAlone` and drop `SibSp` and `Parch` to avoid redundancy if `Fami\n",
        "lySize` captures their essence."
      ],
      "metadata": {
        "id": "bArT_lrMDJJm"
      }
    },
    {
      "cell_type": "code",
      "source": [
        "columns_to_drop_for_model = ['Name', 'Ticket', 'PassengerId', 'SibSp', 'Parch']\n",
        "# Ensure columns exist before attempting to drop, to avoid errors\n",
        "columns_present_to_drop = [col for col in columns_to_drop_for_model if col in df_model_ready.columns]\n",
        "\n",
        "if columns_present_to_drop:\n",
        "         df_model_ready.drop(columns=columns_present_to_drop, axis=1, inplace=True)\n",
        "         print(f\"\\nDropped columns for modeling: {columns_present_to_drop}\")\n",
        "else:\n",
        "         print(f\"\\nSome columns intended for dropping were not found or already dropped: {columns_to_drop_for_model}\")\n",
        "\n",
        "print(\"\\nDataFrame ready for scaling (head):\")\n",
        "print(df_model_ready.head())\n",
        "print(\"\\nFinal columns for the model (before scaling):\")\n",
        "print(df_model_ready.columns)"
      ],
      "metadata": {
        "colab": {
          "base_uri": "https://localhost:8080/"
        },
        "id": "itpBZwx7Dc4p",
        "outputId": "1e0b31b7-7424-43bb-ee19-2882603cb184"
      },
      "execution_count": 8,
      "outputs": [
        {
          "output_type": "stream",
          "name": "stdout",
          "text": [
            "\n",
            "Dropped columns for modeling: ['Name', 'Ticket', 'PassengerId', 'SibSp', 'Parch']\n",
            "\n",
            "DataFrame ready for scaling (head):\n",
            "   Survived  Pclass   Age     Fare  Sex_male  Embarked_Q  Embarked_S\n",
            "0         0       3  22.0   7.2500      True       False        True\n",
            "1         1       1  38.0  71.2833     False       False       False\n",
            "2         1       3  26.0   7.9250     False       False        True\n",
            "3         1       1  35.0  53.1000     False       False        True\n",
            "4         0       3  35.0   8.0500      True       False        True\n",
            "\n",
            "Final columns for the model (before scaling):\n",
            "Index(['Survived', 'Pclass', 'Age', 'Fare', 'Sex_male', 'Embarked_Q',\n",
            "       'Embarked_S'],\n",
            "      dtype='object')\n"
          ]
        }
      ]
    },
    {
      "cell_type": "markdown",
      "source": [
        "# Feature Scaling\n",
        "Many machine learning algorithms perform better when numerical input features are on a similar scale. This is especially true for algorithms that compute\n",
        "distances (like k-NN) or use gradient descent (like Logistic Regression, SVMs, Neural Networks)."
      ],
      "metadata": {
        "id": "LzXuVqjvD-KE"
      }
    },
    {
      "cell_type": "markdown",
      "source": [
        "From `df_model_ready.columns`, our numerical features are likely `Age`, `Fare`, `Pclass` (treating as numerical), `FamilySize`. The one-hot encoded co\n",
        "lumns are already 0/1. `IsAlone` is also 0/1. `Survived` is the target, not a feature to scale"
      ],
      "metadata": {
        "id": "xoHh12umEZQx"
      }
    },
    {
      "cell_type": "code",
      "source": [
        "import numpy as np\n",
        "# numerical_cols_for_scaling = ['Age', 'Fare', 'Pclass', 'FamilySize'] # Example from before\n",
        "# For robustness, dynamically identify numerical columns that are not binary (0/1) or the target\n",
        "\n",
        "if 'df_model_ready' in locals() and not df_model_ready.empty:\n",
        "    potential_numerical_cols = df_model_ready.select_dtypes(include=np.number).columns.tolist()\n",
        "    # Exclude target and already binary/dummy columns\n",
        "    cols_to_exclude_from_scaling = ['Survived'] # Always exclude target\n",
        "    for col in df_model_ready.columns:\n",
        "        if df_model_ready[col].nunique() <= 2: # If column is binary (like dummies, IsAlone)\n",
        "            cols_to_exclude_from_scaling.append(col)\n",
        "\n",
        "    numerical_cols_for_scaling = [col for col in potential_numerical_cols if col not in cols_to_exclude_from_scaling]\n",
        "    numerical_cols_for_scaling = [col for col in numerical_cols_for_scaling if col in df_model_ready.columns] # Ensure they still exist\n",
        "else: # Fallback if df_model_ready is not defined\n",
        "    numerical_cols_for_scaling = ['Age', 'Fare', 'Pclass', 'FamilySize']\n",
        "    # This fallback list requires manual adjustment if columns were named differently or dropped.\n",
        "    print(\"--- Using a predefined list for numerical_cols_for_scaling as df_model_ready was not found. ---\")\n",
        "\n",
        "\n",
        "print(f\"\\nNumerical columns identified for scaling: {numerical_cols_for_scaling}\")\n",
        "if numerical_cols_for_scaling and 'df_model_ready' in locals() and not df_model_ready.empty:\n",
        "      # Ensure all listed columns are actually in the DataFrame before calling describe\n",
        "    valid_cols_for_describe = [col for col in numerical_cols_for_scaling if col in df_model_ready.columns]\n",
        "    if valid_cols_for_describe:\n",
        "        print(df_model_ready[valid_cols_for_describe].describe())\n",
        "    else:\n",
        "        print(\"None of the identified numerical columns for scaling are present in df_model_ready.\")\n",
        "elif not numerical_cols_for_scaling:\n",
        "    print(\"No numerical columns were identified for scaling.\")"
      ],
      "metadata": {
        "colab": {
          "base_uri": "https://localhost:8080/"
        },
        "id": "gayzvkPNEjVW",
        "outputId": "a5911d0b-4858-44e4-c065-043c56c62fd8"
      },
      "execution_count": 10,
      "outputs": [
        {
          "output_type": "stream",
          "name": "stdout",
          "text": [
            "\n",
            "Numerical columns identified for scaling: ['Pclass', 'Age', 'Fare']\n",
            "           Pclass         Age        Fare\n",
            "count  891.000000  891.000000  891.000000\n",
            "mean     2.308642   29.361582   32.204208\n",
            "std      0.836071   13.019697   49.693429\n",
            "min      1.000000    0.420000    0.000000\n",
            "25%      2.000000   22.000000    7.910400\n",
            "50%      3.000000   28.000000   14.454200\n",
            "75%      3.000000   35.000000   31.000000\n",
            "max      3.000000   80.000000  512.329200\n"
          ]
        }
      ]
    },
    {
      "cell_type": "markdown",
      "source": [
        "## Techniques for Scaling\n",
        "* **Standardization (Z-score Normalization):** Transforms data to have a mean of 0 and a standard deviation of 1.\n",
        "      Formula: `$X_{scaled} = (X - \\mu) / \\sigma$`\n",
        "      Tool: `sklearn.preprocessing.StandardScaler`\n",
        "* **Min-Max Scaling (Normalization):** Rescales data to a fixed range, usually 0 to 1.\n",
        "      Formula: $X_{scaled} = (X - X_{min}) / (X_{max} - X_{min})$\n",
        "      Tool: `sklearn.preprocessing.MinMaxScaler`"
      ],
      "metadata": {
        "id": "H6gCq4M7F2dB"
      }
    },
    {
      "cell_type": "markdown",
      "source": [
        "### Applying Standardization\n",
        "**Important:** We should fit the scaler **only** on the training data and then use that *same* fitted scaler to transform both the training and the va\n",
        "lidation/test data. This prevents \"data leakage\" from the validation/test set into the training process. Since we haven't split yet, we'll demonstrate sca\n",
        "ling on `df_model_ready` for now, but keep this principle in mind. Ideally, split first, then scale. For simplicity in this lesson flow, we scale before s\n",
        "plitting, assuming `df_model_ready` represents our *potential* full training dat"
      ],
      "metadata": {
        "id": "8WU1-9XkGJuA"
      }
    },
    {
      "cell_type": "code",
      "source": [
        "from sklearn.preprocessing import StandardScaler\n",
        "\n",
        "if numerical_cols_for_scaling and 'df_model_ready' in locals() and not df_model_ready.empty: # Proceed only if there are columns to scale\n",
        "    # Ensure all identified columns are actually present\n",
        "    valid_cols_to_scale = [col for col in numerical_cols_for_scaling if col in df_model_ready.columns]\n",
        "    if valid_cols_to_scale:\n",
        "        scaler = StandardScaler()\n",
        "        # Fit the scaler and transform the numerical columns\n",
        "        df_model_ready[valid_cols_to_scale] = scaler.fit_transform(df_model_ready[valid_cols_to_scale])\n",
        "\n",
        "        print(\"\\nDataFrame after Scaling numerical features (head):\")\n",
        "        print(df_model_ready[valid_cols_to_scale].head())\n",
        "        print(\"\\nDescriptive stats of scaled features (should have mean ~0, std ~1):\")\n",
        "        print(df_model_ready[valid_cols_to_scale].describe())\n",
        "    else:\n",
        "        print(\"\\nNone of the identified numerical columns for scaling were found in df_model_ready.\")\n",
        "else:\n",
        "    print(\"\\nNo numerical columns were identified or available for scaling, or df_model_ready is not defined.\")"
      ],
      "metadata": {
        "colab": {
          "base_uri": "https://localhost:8080/"
        },
        "id": "POHEsYXTGPuA",
        "outputId": "d56798c6-5f5e-47b0-a38d-3b6b0044fae1"
      },
      "execution_count": 11,
      "outputs": [
        {
          "output_type": "stream",
          "name": "stdout",
          "text": [
            "\n",
            "DataFrame after Scaling numerical features (head):\n",
            "     Pclass       Age      Fare\n",
            "0  0.827377 -0.565736 -0.502445\n",
            "1 -1.566107  0.663861  0.786845\n",
            "2  0.827377 -0.258337 -0.488854\n",
            "3 -1.566107  0.433312  0.420730\n",
            "4  0.827377  0.433312 -0.486337\n",
            "\n",
            "Descriptive stats of scaled features (should have mean ~0, std ~1):\n",
            "             Pclass           Age          Fare\n",
            "count  8.910000e+02  8.910000e+02  8.910000e+02\n",
            "mean  -8.772133e-17  2.272780e-16  3.987333e-18\n",
            "std    1.000562e+00  1.000562e+00  1.000562e+00\n",
            "min   -1.566107e+00 -2.224156e+00 -6.484217e-01\n",
            "25%   -3.693648e-01 -5.657365e-01 -4.891482e-01\n",
            "50%    8.273772e-01 -1.046374e-01 -3.573909e-01\n",
            "75%    8.273772e-01  4.333115e-01 -2.424635e-02\n",
            "max    8.273772e-01  3.891554e+00  9.667167e+00\n"
          ]
        }
      ]
    },
    {
      "cell_type": "markdown",
      "source": [
        "# Splitting Data in to Training and Validation Sets\n",
        "To evaluate our model's performance on unseen data, we need to split our dataset.\n",
        "\n",
        "* **Why Split?**\n",
        "    * **Training Set:** Used to train the machine learning model (i.e., learn the parameters).\n",
        "    * **Validation Set (or Development Set):** Used to tune hyperparameters of the model and make decisions about the model (e.g., feature selection, model architecture). It provides an unbiased estimate of how the model performs on data it wasn't trained on.\n",
        "    * **Test Set (from `test.csv`):** Used for a final, truly unbiased evaluation of the chosen model *after* all training and tuning are complete. We won't touch `test.csv` for labels until the very end.\n",
        "\n",
        "* **Define Features (X) and Target (y):**\n",
        "    * `X`: All columns in `df_model_ready` except `Survived`. These are our input features.\n",
        "    * `y`: The `Survived` column. This is what we want to predict."
      ],
      "metadata": {
        "id": "sKekxoSLHgP0"
      }
    },
    {
      "cell_type": "code",
      "source": [
        "# (Assuming df_model_ready is available)\n",
        "if 'df_model_ready' in locals() and not df_model_ready.empty and 'Survived' in df_model_ready.columns:\n",
        "    X = df_model_ready.drop('Survived', axis=1)\n",
        "    y = df_model_ready['Survived']\n",
        "\n",
        "    print(\"\\nFeatures (X) for the model (head):\")\n",
        "    print(X.head())\n",
        "    print(\"\\nTarget (y) for the model (head):\")\n",
        "    print(y.head())\n",
        "    print(f\"\\nShape of X: {X.shape}, Shape of y: {y.shape}\")\n",
        "else:\n",
        "    print(\"\\n'Survived' column not found in df_model_ready or df_model_ready is empty. Cannot define X and y.\")\n",
        "    # Create dummy X and y if 'Survived' is missing for notebook continuity\n",
        "    if 'df_model_ready' in locals() and not df_model_ready.empty:\n",
        "        # Select all columns except a potential target if 'Survived' is missing\n",
        "        potential_features = [col for col in df_model_ready.columns if col not in ['Survived']] # Example exclusion\n",
        "        if potential_features:\n",
        "            X = df_model_ready[potential_features]\n",
        "            y = pd.Series(np.random.randint(0,2,size=len(df_model_ready)), name='Survived') # Dummy target\n",
        "            print(\"--- Created dummy X and y as 'Survived' was not found for split. ---\")\n",
        "        else:\n",
        "            X, y = pd.DataFrame(), pd.Series(name='Survived') # Empty placeholders\n",
        "            print(\"--- df_model_ready is empty or has no suitable columns for X. ---\")\n",
        "    else: # If df_model_ready itself is not defined\n",
        "        X, y = pd.DataFrame(), pd.Series(name='Survived') # Empty placeholders\n",
        "        print(\"--- df_model_ready is not defined. Cannot define X and y. ---\")"
      ],
      "metadata": {
        "colab": {
          "base_uri": "https://localhost:8080/"
        },
        "id": "o1-Xv81iIBNI",
        "outputId": "bc390602-fe6e-40dd-cce6-078be5e18956"
      },
      "execution_count": 12,
      "outputs": [
        {
          "output_type": "stream",
          "name": "stdout",
          "text": [
            "\n",
            "Features (X) for the model (head):\n",
            "     Pclass       Age      Fare  Sex_male  Embarked_Q  Embarked_S\n",
            "0  0.827377 -0.565736 -0.502445      True       False        True\n",
            "1 -1.566107  0.663861  0.786845     False       False       False\n",
            "2  0.827377 -0.258337 -0.488854     False       False        True\n",
            "3 -1.566107  0.433312  0.420730     False       False        True\n",
            "4  0.827377  0.433312 -0.486337      True       False        True\n",
            "\n",
            "Target (y) for the model (head):\n",
            "0    0\n",
            "1    1\n",
            "2    1\n",
            "3    1\n",
            "4    0\n",
            "Name: Survived, dtype: int64\n",
            "\n",
            "Shape of X: (891, 6), Shape of y: (891,)\n"
          ]
        }
      ]
    },
    {
      "cell_type": "markdown",
      "source": [
        "## Performing the Split\n",
        " **Performing the Split using `sklearn.model_selection.train_test_split`:**"
      ],
      "metadata": {
        "id": "PsYzgBQwIKf6"
      }
    },
    {
      "cell_type": "code",
      "source": [
        "from sklearn.model_selection import train_test_split\n",
        "\n",
        "if 'X' in locals() and 'y' in locals() and not X.empty and not y.empty: # Proceed only if X and y are defined\n",
        "    # test_size: proportion of the dataset to include in the validation split (e.g., 0.2 for 20%)\n",
        "    # random_state: ensures the split is the same every time you run the code (for reproducibility)\n",
        "    # stratify=y: recommended for classification tasks. It ensures that the proportion of the target\n",
        "    #             variable's classes is approximately the same in both training and validation sets.\n",
        "    X_train, X_val, y_train, y_val = train_test_split(\n",
        "        X, y,\n",
        "        test_size=0.2,    # 20% for validation, 80% for training\n",
        "        random_state=42,  # The answer to life, the universe, and everything - for consistency\n",
        "        stratify=y        # Important for classification if y has more than 1 class and is not empty\n",
        "    )\n",
        "\n",
        "    print(\"\\nShapes of the resulting data splits:\")\n",
        "    print(f\"X_train shape: {X_train.shape}, y_train shape: {y_train.shape}\")\n",
        "    print(f\"X_val shape: {X_val.shape}, y_val shape: {y_val.shape}\")\n",
        "\n",
        "    if not y.empty and y.nunique() > 1: # Stratification makes sense if there are classes to stratify\n",
        "        print(\"\\nProportion of target classes in original y:\")\n",
        "        print(y.value_counts(normalize=True))\n",
        "        print(\"\\nProportion of target classes in y_train:\")\n",
        "        print(y_train.value_counts(normalize=True))\n",
        "        print(\"\\nProportion of target classes in y_val (should be similar to y_train due to stratify):\")\n",
        "        print(y_val.value_counts(normalize=True))\n",
        "    elif not y.empty:\n",
        "          print(\"\\nTarget variable 'y' has only one class or is empty, stratification may not be meaningful or applied.\")\n",
        "          print(y.value_counts(normalize=True))\n",
        "\n",
        "else:\n",
        "    print(\"\\nCannot perform train-test split as X or y is empty/undefined.\")\n",
        "    # Define empty placeholders if split failed, for subsequent lessons to run\n",
        "    X_train, X_val, y_train, y_val = pd.DataFrame(), pd.DataFrame(), pd.Series(dtype='int'), pd.Series(dtype='int')"
      ],
      "metadata": {
        "colab": {
          "base_uri": "https://localhost:8080/"
        },
        "id": "qxdECrnUINgK",
        "outputId": "6008ad13-f0f5-4c84-d286-c1902b0db2f1"
      },
      "execution_count": 13,
      "outputs": [
        {
          "output_type": "stream",
          "name": "stdout",
          "text": [
            "\n",
            "Shapes of the resulting data splits:\n",
            "X_train shape: (712, 6), y_train shape: (712,)\n",
            "X_val shape: (179, 6), y_val shape: (179,)\n",
            "\n",
            "Proportion of target classes in original y:\n",
            "Survived\n",
            "0    0.616162\n",
            "1    0.383838\n",
            "Name: proportion, dtype: float64\n",
            "\n",
            "Proportion of target classes in y_train:\n",
            "Survived\n",
            "0    0.616573\n",
            "1    0.383427\n",
            "Name: proportion, dtype: float64\n",
            "\n",
            "Proportion of target classes in y_val (should be similar to y_train due to stratify):\n",
            "Survived\n",
            "0    0.614525\n",
            "1    0.385475\n",
            "Name: proportion, dtype: float64\n"
          ]
        }
      ]
    }
  ]
}